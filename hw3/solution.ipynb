{
 "cells": [
  {
   "cell_type": "code",
   "execution_count": 1,
   "metadata": {},
   "outputs": [],
   "source": [
    "import numpy as np\n",
    "import sympy as sp\n",
    "from sympy import cos, sin"
   ]
  },
  {
   "cell_type": "code",
   "execution_count": 2,
   "metadata": {},
   "outputs": [],
   "source": [
    "# Source: symbolic_fk.ipynb demo code\n",
    "\n",
    "def rz(theta):\n",
    "    rot = sp.zeros(4,4)\n",
    "    rot[3,3] = 1\n",
    "    rot[0,:] = [[cos(theta), -sin(theta),0,0]]\n",
    "    rot[1,:] = [[sin(theta), cos(theta),0,0]]\n",
    "    rot[2,2] = 1\n",
    "\n",
    "    return rot\n",
    "\n",
    "def rx(theta): \n",
    "    rot = sp.zeros(4,4)\n",
    "    rot[3,3] = 1\n",
    "    rot[0,0] = 1\n",
    "    rot[1,:] = [[0, cos(theta), -sin(theta),0]]\n",
    "    rot[2,:] = [[0, sin(theta), cos(theta),0]]\n",
    "\n",
    "    return rot\n",
    "\n",
    "\n",
    "def ry(theta): \n",
    "    rot = sp.zeros(4,4)\n",
    "    rot[3,3] = 1\n",
    "    rot[1,1] = 1\n",
    "    rot[0,:] = [[ cos(theta), 0, sin(theta),0]]\n",
    "    rot[2,:] = [[-sin(theta),0, cos(theta),0]]\n",
    "\n",
    "    return rot\n",
    "\n",
    "\n",
    "def trans(vector):\n",
    "    mat = sp.eye(4)\n",
    "    mat[0:3,3] = vector\n",
    "    return mat\n",
    "\n",
    "def tx(dx):\n",
    "    return trans([dx, 0, 0])\n",
    "\n",
    "def ty(dy):\n",
    "    return trans([0, dy, 0])\n",
    "\n",
    "def tz(dz):\n",
    "    return trans([0, 0, dz])"
   ]
  },
  {
   "cell_type": "code",
   "execution_count": 3,
   "metadata": {},
   "outputs": [],
   "source": [
    "t = sp.Symbol('t')\n",
    "qs = [sp.Function(f'q_{i}')(t) for i in range(6)] # Joints effect\n",
    "dqs = [sp.Derivative(q) for q in qs] # Joint velocities\n",
    "ls = sp.symbols(r\"l_:6\") # Link lengths\n",
    "hs = sp.symbols(r\"h_:3\") # Link heights\n",
    "ws = sp.symbols(r\"w_:3\") # Link widths\n",
    "rs = sp.symbols(r\"r_:6\") # Link radii"
   ]
  },
  {
   "cell_type": "code",
   "execution_count": 4,
   "metadata": {},
   "outputs": [],
   "source": [
    "dh_table = [\n",
    "    [0, 0, 0, 0],\n",
    "    [sp.pi / 2, sp.pi / 2, 0, qs[1] + ls[1]],\n",
    "    [0, -sp.pi / 2, 0, qs[2] + ls[2]],\n",
    "    [-sp.pi / 2 + qs[3], sp.pi / 2, 0, ls[3]],\n",
    "    [sp.pi / 2 + qs[4], sp.pi / 2, 0, 0],\n",
    "    [qs[5], 0, 0, ls[4]]\n",
    "]"
   ]
  },
  {
   "cell_type": "code",
   "execution_count": 5,
   "metadata": {},
   "outputs": [],
   "source": [
    "def dh_to_matrix(dh_row):\n",
    "    theta, alpha, a, d = dh_row\n",
    "    return rz(theta) * tx(a) * tz(d) * rx(alpha)"
   ]
  },
  {
   "cell_type": "code",
   "execution_count": 6,
   "metadata": {},
   "outputs": [],
   "source": [
    "def forward(i, j):\n",
    "    T = sp.eye(4)\n",
    "    for k in range(i, j):\n",
    "        T = T * dh_to_matrix(dh_table[k])\n",
    "    return T"
   ]
  },
  {
   "cell_type": "markdown",
   "metadata": {},
   "source": [
    "![](assets/frames.png)"
   ]
  },
  {
   "cell_type": "code",
   "execution_count": 7,
   "metadata": {},
   "outputs": [],
   "source": [
    "coms = np.zeros((6, 4, 4), dtype=object)\n",
    "for i in range(0, 6):\n",
    "    coms[i] = forward(0, i + 1)\n",
    "coms[4] = coms[4] * tz(ls[4] / 2)"
   ]
  },
  {
   "cell_type": "code",
   "execution_count": 8,
   "metadata": {},
   "outputs": [],
   "source": [
    "w1 = sp.Matrix([0, 0, 0]) # local axis of joint 1\n",
    "w2 = sp.Matrix([0, 0, 0]) # local axis of joint 2\n",
    "w3 = sp.Matrix([0, 0, 1]) # local axis of joint 3\n",
    "w4 = sp.Matrix([0, 1, 0]) # local axis of joint 4\n",
    "w5 = sp.Matrix([1, 0, 0]) # local axis of joint 5\n",
    "\n",
    "R1 = forward(0, 4)[0:3,0:3]\n",
    "R2 = forward(0, 5)[0:3,0:3]\n",
    "R3 = forward(0, 6)[0:3,0:3]\n",
    "\n",
    "w3 = R1 @ w3\n",
    "w4 = R2 @ w4\n",
    "w5 = R3 @ w5"
   ]
  },
  {
   "cell_type": "code",
   "execution_count": 9,
   "metadata": {},
   "outputs": [
    {
     "data": {
      "text/latex": [
       "$\\displaystyle \\left[\\begin{matrix}\\sin{\\left(\\operatorname{q_{3}}{\\left(t \\right)} \\right)}\\\\- \\cos{\\left(\\operatorname{q_{3}}{\\left(t \\right)} \\right)}\\\\0\\end{matrix}\\right]$"
      ],
      "text/plain": [
       "Matrix([\n",
       "[ sin(q_3(t))],\n",
       "[-cos(q_3(t))],\n",
       "[           0]])"
      ]
     },
     "execution_count": 9,
     "metadata": {},
     "output_type": "execute_result"
    }
   ],
   "source": [
    "w3"
   ]
  },
  {
   "cell_type": "code",
   "execution_count": 10,
   "metadata": {},
   "outputs": [],
   "source": [
    "Jv = np.zeros((6, 3, 5), dtype=object)\n",
    "Jw = np.zeros((6, 3, 5), dtype=object)\n",
    "\n",
    "for i in range(6):\n",
    "  for j in range(3):\n",
    "    for k in range(5):\n",
    "      Jv[i, j, k] = sp.diff(coms[i, j, 3], qs[k])\n",
    "\n",
    "ws = [w1, w2, w3, w4, w5]\n",
    "for n in range(6):\n",
    "  for j in range(n):\n",
    "    Jw[n, :, j] = np.array(ws[j].tolist()).T\n"
   ]
  },
  {
   "cell_type": "code",
   "execution_count": 11,
   "metadata": {},
   "outputs": [],
   "source": [
    "J = [sp.Matrix(i).col_join(sp.Matrix(j)) for i, j in zip(Jv, Jw)]"
   ]
  },
  {
   "cell_type": "code",
   "execution_count": 12,
   "metadata": {},
   "outputs": [],
   "source": [
    "m = [1 for _ in range(6)]\n",
    "I = np.array([[1 for b in ['x', 'y', 'z']] for a in ['x', 'y', 'z']])\n",
    "R = np.zeros((6, 3, 3), dtype=object)\n",
    "for n in range(6):\n",
    "  R[n] = coms[n, :3, :3]\n",
    "\n",
    "M = np.zeros((5, 5), dtype=object)\n",
    "for i in range(6):\n",
    "  M += m[i] * Jv[i].T @ Jv[i] + Jw[i].T @ R[i] @ I @ R[i].T @ Jw[i]"
   ]
  },
  {
   "cell_type": "code",
   "execution_count": 13,
   "metadata": {},
   "outputs": [],
   "source": [
    "steps = 2 # number of steps to simplify\n",
    "# one step was not enough for my case\n",
    "for i in range(steps):\n",
    "    M = sp.trigsimp(M)"
   ]
  },
  {
   "cell_type": "code",
   "execution_count": 14,
   "metadata": {},
   "outputs": [
    {
     "data": {
      "text/latex": [
       "$\\displaystyle \\left[\\begin{matrix}0 & 0 & 0 & 0 & 0\\\\0 & 5 & 0 & 0 & \\frac{3 l_{4} \\cos{\\left(\\operatorname{q_{4}}{\\left(t \\right)} \\right)}}{2}\\\\0 & 0 & \\sin{\\left(2 \\operatorname{q_{5}}{\\left(t \\right)} \\right)} + 7 & - \\frac{3 l_{4} \\sin{\\left(\\operatorname{q_{3}}{\\left(t \\right)} - \\operatorname{q_{4}}{\\left(t \\right)} \\right)}}{4} - \\frac{3 l_{4} \\sin{\\left(\\operatorname{q_{3}}{\\left(t \\right)} + \\operatorname{q_{4}}{\\left(t \\right)} \\right)}}{4} + \\sin{\\left(2 \\operatorname{q_{5}}{\\left(t \\right)} \\right)} + 2 & - \\frac{3 l_{4} \\sin{\\left(\\operatorname{q_{4}}{\\left(t \\right)} \\right)} \\cos{\\left(\\operatorname{q_{3}}{\\left(t \\right)} \\right)}}{2} + \\sqrt{2} \\sin{\\left(\\operatorname{q_{5}}{\\left(t \\right)} + \\frac{\\pi}{4} \\right)}\\\\0 & 0 & - \\frac{3 l_{4} \\sin{\\left(\\operatorname{q_{3}}{\\left(t \\right)} - \\operatorname{q_{4}}{\\left(t \\right)} \\right)}}{4} - \\frac{3 l_{4} \\sin{\\left(\\operatorname{q_{3}}{\\left(t \\right)} + \\operatorname{q_{4}}{\\left(t \\right)} \\right)}}{4} + \\sin{\\left(2 \\operatorname{q_{5}}{\\left(t \\right)} \\right)} + 2 & \\frac{5 l_{4}^{2} \\cos{\\left(2 \\operatorname{q_{4}}{\\left(t \\right)} \\right)}}{8} + \\frac{5 l_{4}^{2}}{8} + \\sin{\\left(2 \\operatorname{q_{5}}{\\left(t \\right)} \\right)} + 2 & \\sqrt{2} \\sin{\\left(\\operatorname{q_{5}}{\\left(t \\right)} + \\frac{\\pi}{4} \\right)}\\\\0 & \\frac{3 l_{4} \\cos{\\left(\\operatorname{q_{4}}{\\left(t \\right)} \\right)}}{2} & - \\frac{3 l_{4} \\sin{\\left(\\operatorname{q_{4}}{\\left(t \\right)} \\right)} \\cos{\\left(\\operatorname{q_{3}}{\\left(t \\right)} \\right)}}{2} + \\sqrt{2} \\sin{\\left(\\operatorname{q_{5}}{\\left(t \\right)} + \\frac{\\pi}{4} \\right)} & \\sqrt{2} \\sin{\\left(\\operatorname{q_{5}}{\\left(t \\right)} + \\frac{\\pi}{4} \\right)} & \\frac{5 l_{4}^{2}}{4} + 1\\end{matrix}\\right]$"
      ],
      "text/plain": [
       "Matrix([\n",
       "[0,                   0,                                                                                0,                                                                                0,                                                             0],\n",
       "[0,                   5,                                                                                0,                                                                                0,                                           3*l_4*cos(q_4(t))/2],\n",
       "[0,                   0,                                                                sin(2*q_5(t)) + 7, -3*l_4*sin(q_3(t) - q_4(t))/4 - 3*l_4*sin(q_3(t) + q_4(t))/4 + sin(2*q_5(t)) + 2, -3*l_4*sin(q_4(t))*cos(q_3(t))/2 + sqrt(2)*sin(q_5(t) + pi/4)],\n",
       "[0,                   0, -3*l_4*sin(q_3(t) - q_4(t))/4 - 3*l_4*sin(q_3(t) + q_4(t))/4 + sin(2*q_5(t)) + 2,                        5*l_4**2*cos(2*q_4(t))/8 + 5*l_4**2/8 + sin(2*q_5(t)) + 2,                                    sqrt(2)*sin(q_5(t) + pi/4)],\n",
       "[0, 3*l_4*cos(q_4(t))/2,                    -3*l_4*sin(q_4(t))*cos(q_3(t))/2 + sqrt(2)*sin(q_5(t) + pi/4),                                                       sqrt(2)*sin(q_5(t) + pi/4),                                                5*l_4**2/4 + 1]])"
      ]
     },
     "execution_count": 14,
     "metadata": {},
     "output_type": "execute_result"
    }
   ],
   "source": [
    "M = sp.Matrix(M)\n",
    "M"
   ]
  },
  {
   "cell_type": "code",
   "execution_count": 15,
   "metadata": {},
   "outputs": [
    {
     "name": "stdout",
     "output_type": "stream",
     "text": [
      "Matrix is symmetric\n"
     ]
    }
   ],
   "source": [
    "quick_check = (M==M.T)\n",
    "\n",
    "if quick_check == 1:\n",
    "    print('Matrix is symmetric')\n",
    "else:\n",
    "    print('Matrix is not symmetric')\n",
    "\n",
    "    for i in range(len(M[0])):\n",
    "        for j in range(i):\n",
    "            if M[i, j] != M[j, i]:\n",
    "                print(f'First element: {M[i, j]}\\nSecond element: {M[j, i]}')"
   ]
  },
  {
   "cell_type": "code",
   "execution_count": 16,
   "metadata": {},
   "outputs": [
    {
     "name": "stdout",
     "output_type": "stream",
     "text": [
      "Matrix is positive definite\n"
     ]
    }
   ],
   "source": [
    "steps = 50 # number of steps to check definiteness\n",
    "flag = True\n",
    "for i in range(steps):\n",
    "    qsf = np.random.rand(6)\n",
    "    Mf = M.subs({qs[i]: qsf[i] for i in range(6)}).evalf()\n",
    "    Mf = Mf.subs({ls[i]: 1 for i in range(6)}).evalf()\n",
    "    eigs = np.array(list(Mf.eigenvals().keys())[1:])\n",
    "    \n",
    "    if not np.all(eigs > 0):\n",
    "        print('Matrix is not positive definite')\n",
    "        flag = False\n",
    "        break\n",
    "\n",
    "if flag:\n",
    "    print('Matrix is positive definite')"
   ]
  },
  {
   "cell_type": "code",
   "execution_count": 17,
   "metadata": {},
   "outputs": [],
   "source": [
    "C = np.zeros((5, 5), dtype=object)\n",
    "for i in range(5):\n",
    "  for j in range(5):\n",
    "    for k in range(5):\n",
    "      cijk = 0.5 * (sp.diff(M[i,j], qs[k]) + sp.diff(M[i,k], qs[j]) - sp.diff(M[j,k], qs[i]))\n",
    "      C[i, j] += cijk * dqs[k]"
   ]
  },
  {
   "cell_type": "code",
   "execution_count": 18,
   "metadata": {},
   "outputs": [
    {
     "data": {
      "text/latex": [
       "$\\displaystyle \\left[\\begin{matrix}0 & -39.24 & 0 & 0 & - 4.905 l_{4} \\cos{\\left(\\operatorname{q_{4}}{\\left(t \\right)} \\right)} & 0\\end{matrix}\\right]$"
      ],
      "text/plain": [
       "[0, -39.24, 0, 0, -4.905*l_4*cos(q_4(t)), 0]"
      ]
     },
     "execution_count": 18,
     "metadata": {},
     "output_type": "execute_result"
    }
   ],
   "source": [
    "g = np.zeros(6, dtype=object)\n",
    "for i in range(5):\n",
    "  for k in range(5):\n",
    "    g[i] -= np.dot(Jv[k, :, i], m[k] * np.array([0, 0, 9.81]))\n",
    "\n",
    "sp.Array(g)"
   ]
  },
  {
   "cell_type": "code",
   "execution_count": 25,
   "metadata": {},
   "outputs": [],
   "source": [
    "def find_coeff(t0, tf, q0, qf, dq0, dqf):\n",
    "    a = sp.Matrix(sp.symbols('a:4'))\n",
    "    A = sp.Matrix([[t0**3, t0**2, t0, 1],\n",
    "                   [tf**3, tf**2, tf, 1],\n",
    "                   [3*t0**2, 2*t0, 1, 0],\n",
    "                   [3*tf**2, 2*tf, 1, 0]])\n",
    "    b = sp.Matrix([q0, qf, dq0, dqf])\n",
    "\n",
    "    sol = sp.solve(A @ a - b, a)\n",
    "    return sol"
   ]
  },
  {
   "cell_type": "code",
   "execution_count": 37,
   "metadata": {},
   "outputs": [
    {
     "data": {
      "text/plain": [
       "[-2, 3, 0, 0]"
      ]
     },
     "execution_count": 37,
     "metadata": {},
     "output_type": "execute_result"
    }
   ],
   "source": [
    "list(find_coeff(0, 1, 0, 1, 0, 0).values())"
   ]
  },
  {
   "cell_type": "code",
   "execution_count": 41,
   "metadata": {},
   "outputs": [],
   "source": [
    "def gen_trajectory(t0, tf, q0, qf, dq0, dqf, steps):\n",
    "    a = list(find_coeff(t0, tf, q0, qf, dq0, dqf).values())\n",
    "    t = np.linspace(t0, tf, steps)\n",
    "    q = a[0] * t**3 + a[1] * t**2 + a[2] * t + a[3]\n",
    "    dq = a[0] * 3 * t**2 + a[1] * 2 * t + a[2]\n",
    "    ddq = a[0] * 6 * t + a[1] * 2\n",
    "    return q, dq, ddq"
   ]
  },
  {
   "cell_type": "code",
   "execution_count": 42,
   "metadata": {},
   "outputs": [
    {
     "data": {
      "text/plain": [
       "(array([0, 0.156250000000000, 0.500000000000000, 0.843750000000000,\n",
       "        1.00000000000000], dtype=object),\n",
       " array([0, 1.12500000000000, 1.50000000000000, 1.12500000000000, 0],\n",
       "       dtype=object),\n",
       " array([6, 3.00000000000000, 0, -3.00000000000000, -6.00000000000000],\n",
       "       dtype=object))"
      ]
     },
     "execution_count": 42,
     "metadata": {},
     "output_type": "execute_result"
    }
   ],
   "source": [
    "gen_trajectory(0, 1, 0, 1, 0, 0, 5)"
   ]
  },
  {
   "cell_type": "code",
   "execution_count": null,
   "metadata": {},
   "outputs": [],
   "source": [
    "# ddq = M^-1 ( -C @ dq - g + torque)\n",
    "\n",
    "Kp = np.ones(5)\n",
    "Kd = np.ones(5)\n",
    "\n",
    "def pd_control(dt, q, dq, ddq, qd, dqd, ddqd):\n",
    "\n",
    "    n_M = M.subs({qs[i]: q[i] for i in range(6)}).evalf()\n",
    "    n_M = n_M.subs({ls[i]: 1 for i in range(6)}).evalf()\n",
    "    n_M = n_M.inv()\n",
    "    n_C = C.subs({qs[i]: q[i] for i in range(6)}).evalf()\n",
    "    n_C = n_C.subs({ls[i]: 1 for i in range(6)}).evalf()\n",
    "    n_g = g.subs({qs[i]: q[i] for i in range(6)}).evalf()\n",
    "    n_g = n_g.subs({ls[i]: 1 for i in range(6)}).evalf()\n",
    "\n",
    "    n_q = q + dq * dt\n",
    "    n_dq = dq + ddq * dt\n",
    "\n",
    "    tau = Kp * (qd - n_q) + Kd * (dqd - n_dq)\n",
    "\n",
    "    print(tau)\n",
    "\n",
    "    n_ddq = n_M @ (-n_C @ n_dq - n_g + tau)"
   ]
  },
  {
   "cell_type": "code",
   "execution_count": 26,
   "metadata": {},
   "outputs": [
    {
     "data": {
      "text/plain": [
       "{a0: -2/125, a1: 3/25, a2: 0, a3: 0}"
      ]
     },
     "execution_count": 26,
     "metadata": {},
     "output_type": "execute_result"
    }
   ],
   "source": [
    "find_coeff(0, 5, 0, 1, 0, 0)"
   ]
  },
  {
   "cell_type": "code",
   "execution_count": null,
   "metadata": {},
   "outputs": [],
   "source": []
  }
 ],
 "metadata": {
  "kernelspec": {
   "display_name": "base",
   "language": "python",
   "name": "python3"
  },
  "language_info": {
   "codemirror_mode": {
    "name": "ipython",
    "version": 3
   },
   "file_extension": ".py",
   "mimetype": "text/x-python",
   "name": "python",
   "nbconvert_exporter": "python",
   "pygments_lexer": "ipython3",
   "version": "3.9.13"
  },
  "orig_nbformat": 4,
  "vscode": {
   "interpreter": {
    "hash": "1f7231cd321bc73172e23d3fd2b7413e5063c7e51a3c02201c1a1feb0b5bad5f"
   }
  }
 },
 "nbformat": 4,
 "nbformat_minor": 2
}
