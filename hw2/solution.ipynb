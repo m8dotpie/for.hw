{
 "cells": [
  {
   "cell_type": "markdown",
   "metadata": {},
   "source": [
    "# Imports and inits"
   ]
  },
  {
   "cell_type": "code",
   "execution_count": 32,
   "metadata": {},
   "outputs": [],
   "source": [
    "import numpy as np\n",
    "import sympy as sp\n",
    "from sympy import cos, sin"
   ]
  },
  {
   "cell_type": "code",
   "execution_count": 40,
   "metadata": {},
   "outputs": [],
   "source": [
    "t = sp.Symbol('t')\n",
    "qs = [sp.Function(f'q_{i}')(t) for i in range(6)] # Joints effect\n",
    "ls = sp.symbols(r\"l_:6\") # Link lengths\n",
    "hs = sp.symbols(r\"h_:3\") # Link heights\n",
    "ws = sp.symbols(r\"w_:3\") # Link widths\n",
    "rs = sp.symbols(r\"r_:6\") # Link radii"
   ]
  },
  {
   "cell_type": "code",
   "execution_count": 41,
   "metadata": {},
   "outputs": [
    {
     "data": {
      "text/plain": [
       "[q_0(t), q_1(t), q_2(t), q_3(t), q_4(t), q_5(t)]"
      ]
     },
     "execution_count": 41,
     "metadata": {},
     "output_type": "execute_result"
    }
   ],
   "source": [
    "qs"
   ]
  },
  {
   "cell_type": "code",
   "execution_count": 42,
   "metadata": {},
   "outputs": [],
   "source": [
    "# Source: symbolic_fk.ipynb demo code\n",
    "\n",
    "def rz(theta):\n",
    "    rot = sp.zeros(4,4)\n",
    "    rot[3,3] = 1\n",
    "    rot[0,:] = [[cos(theta), -sin(theta),0,0]]\n",
    "    rot[1,:] = [[sin(theta), cos(theta),0,0]]\n",
    "    rot[2,2] = 1\n",
    "\n",
    "    return rot\n",
    "\n",
    "def rx(theta): \n",
    "    rot = sp.zeros(4,4)\n",
    "    rot[3,3] = 1\n",
    "    rot[0,0] = 1\n",
    "    rot[1,:] = [[0, cos(theta), -sin(theta),0]]\n",
    "    rot[2,:] = [[0, sin(theta), cos(theta),0]]\n",
    "\n",
    "    return rot\n",
    "\n",
    "\n",
    "def ry(theta): \n",
    "    rot = sp.zeros(4,4)\n",
    "    rot[3,3] = 1\n",
    "    rot[1,1] = 1\n",
    "    rot[0,:] = [[ cos(theta), 0, sin(theta),0]]\n",
    "    rot[2,:] = [[-sin(theta),0, cos(theta),0]]\n",
    "\n",
    "    return rot\n",
    "\n",
    "\n",
    "def trans(vector):\n",
    "    mat = sp.eye(4)\n",
    "    mat[0:3,3] = vector\n",
    "    return mat\n",
    "\n",
    "def tx(dx):\n",
    "    return trans([dx, 0, 0])\n",
    "\n",
    "def ty(dy):\n",
    "    return trans([0, dy, 0])\n",
    "\n",
    "def tz(dz):\n",
    "    return trans([0, 0, dz])"
   ]
  },
  {
   "cell_type": "markdown",
   "metadata": {},
   "source": [
    "# Calculating transformation"
   ]
  },
  {
   "cell_type": "code",
   "execution_count": 63,
   "metadata": {},
   "outputs": [],
   "source": [
    "dh_table = [\n",
    "    [0, 0, 0, 0],\n",
    "    [sp.pi / 2, sp.pi / 2, 0, qs[1] + ls[1]],\n",
    "    [0, -sp.pi / 2, 0, qs[2] + ls[2]],\n",
    "    [-sp.pi / 2 + qs[3], sp.pi / 2, 0, ls[3]],\n",
    "    [sp.pi / 2 + qs[4], sp.pi / 2, 0, 0],\n",
    "    [qs[5], 0, 0, ls[4]]\n",
    "]"
   ]
  },
  {
   "cell_type": "code",
   "execution_count": 67,
   "metadata": {},
   "outputs": [],
   "source": [
    "def dh_to_matrix(dh_row):\n",
    "    theta, alpha, a, d = dh_row\n",
    "    return rz(theta) * tx(a) * tz(d) * rx(alpha)"
   ]
  },
  {
   "cell_type": "code",
   "execution_count": 75,
   "metadata": {},
   "outputs": [
    {
     "name": "stdout",
     "output_type": "stream",
     "text": [
      "All consequent transformations:\n",
      "0 -> 1\n"
     ]
    },
    {
     "data": {
      "text/latex": [
       "$\\displaystyle \\left[\\begin{matrix}1 & 0 & 0 & 0\\\\0 & 1 & 0 & 0\\\\0 & 0 & 1 & 0\\\\0 & 0 & 0 & 1\\end{matrix}\\right]$"
      ],
      "text/plain": [
       "Matrix([\n",
       "[1, 0, 0, 0],\n",
       "[0, 1, 0, 0],\n",
       "[0, 0, 1, 0],\n",
       "[0, 0, 0, 1]])"
      ]
     },
     "metadata": {},
     "output_type": "display_data"
    },
    {
     "name": "stdout",
     "output_type": "stream",
     "text": [
      "1 -> 2\n"
     ]
    },
    {
     "data": {
      "text/latex": [
       "$\\displaystyle \\left[\\begin{matrix}0 & 0 & 1 & 0\\\\1 & 0 & 0 & 0\\\\0 & 1 & 0 & l_{1} + \\operatorname{q_{1}}{\\left(t \\right)}\\\\0 & 0 & 0 & 1\\end{matrix}\\right]$"
      ],
      "text/plain": [
       "Matrix([\n",
       "[0, 0, 1,            0],\n",
       "[1, 0, 0,            0],\n",
       "[0, 1, 0, l_1 + q_1(t)],\n",
       "[0, 0, 0,            1]])"
      ]
     },
     "metadata": {},
     "output_type": "display_data"
    },
    {
     "name": "stdout",
     "output_type": "stream",
     "text": [
      "2 -> 3\n"
     ]
    },
    {
     "data": {
      "text/latex": [
       "$\\displaystyle \\left[\\begin{matrix}1 & 0 & 0 & 0\\\\0 & 0 & 1 & 0\\\\0 & -1 & 0 & l_{2} + \\operatorname{q_{2}}{\\left(t \\right)}\\\\0 & 0 & 0 & 1\\end{matrix}\\right]$"
      ],
      "text/plain": [
       "Matrix([\n",
       "[1,  0, 0,            0],\n",
       "[0,  0, 1,            0],\n",
       "[0, -1, 0, l_2 + q_2(t)],\n",
       "[0,  0, 0,            1]])"
      ]
     },
     "metadata": {},
     "output_type": "display_data"
    },
    {
     "name": "stdout",
     "output_type": "stream",
     "text": [
      "3 -> 4\n"
     ]
    },
    {
     "data": {
      "text/latex": [
       "$\\displaystyle \\left[\\begin{matrix}\\sin{\\left(\\operatorname{q_{3}}{\\left(t \\right)} \\right)} & 0 & - \\cos{\\left(\\operatorname{q_{3}}{\\left(t \\right)} \\right)} & 0\\\\- \\cos{\\left(\\operatorname{q_{3}}{\\left(t \\right)} \\right)} & 0 & - \\sin{\\left(\\operatorname{q_{3}}{\\left(t \\right)} \\right)} & 0\\\\0 & 1 & 0 & l_{3}\\\\0 & 0 & 0 & 1\\end{matrix}\\right]$"
      ],
      "text/plain": [
       "Matrix([\n",
       "[ sin(q_3(t)), 0, -cos(q_3(t)),   0],\n",
       "[-cos(q_3(t)), 0, -sin(q_3(t)),   0],\n",
       "[           0, 1,            0, l_3],\n",
       "[           0, 0,            0,   1]])"
      ]
     },
     "metadata": {},
     "output_type": "display_data"
    },
    {
     "name": "stdout",
     "output_type": "stream",
     "text": [
      "4 -> 5\n"
     ]
    },
    {
     "data": {
      "text/latex": [
       "$\\displaystyle \\left[\\begin{matrix}- \\sin{\\left(\\operatorname{q_{4}}{\\left(t \\right)} \\right)} & 0 & \\cos{\\left(\\operatorname{q_{4}}{\\left(t \\right)} \\right)} & 0\\\\\\cos{\\left(\\operatorname{q_{4}}{\\left(t \\right)} \\right)} & 0 & \\sin{\\left(\\operatorname{q_{4}}{\\left(t \\right)} \\right)} & 0\\\\0 & 1 & 0 & 0\\\\0 & 0 & 0 & 1\\end{matrix}\\right]$"
      ],
      "text/plain": [
       "Matrix([\n",
       "[-sin(q_4(t)), 0, cos(q_4(t)), 0],\n",
       "[ cos(q_4(t)), 0, sin(q_4(t)), 0],\n",
       "[           0, 1,           0, 0],\n",
       "[           0, 0,           0, 1]])"
      ]
     },
     "metadata": {},
     "output_type": "display_data"
    },
    {
     "name": "stdout",
     "output_type": "stream",
     "text": [
      "5 -> 6\n"
     ]
    },
    {
     "data": {
      "text/latex": [
       "$\\displaystyle \\left[\\begin{matrix}\\cos{\\left(\\operatorname{q_{5}}{\\left(t \\right)} \\right)} & - \\sin{\\left(\\operatorname{q_{5}}{\\left(t \\right)} \\right)} & 0 & 0\\\\\\sin{\\left(\\operatorname{q_{5}}{\\left(t \\right)} \\right)} & \\cos{\\left(\\operatorname{q_{5}}{\\left(t \\right)} \\right)} & 0 & 0\\\\0 & 0 & 1 & l_{4}\\\\0 & 0 & 0 & 1\\end{matrix}\\right]$"
      ],
      "text/plain": [
       "Matrix([\n",
       "[cos(q_5(t)), -sin(q_5(t)), 0,   0],\n",
       "[sin(q_5(t)),  cos(q_5(t)), 0,   0],\n",
       "[          0,            0, 1, l_4],\n",
       "[          0,            0, 0,   1]])"
      ]
     },
     "metadata": {},
     "output_type": "display_data"
    },
    {
     "name": "stdout",
     "output_type": "stream",
     "text": [
      "Total transformation:\n"
     ]
    },
    {
     "data": {
      "text/latex": [
       "$\\displaystyle \\left[\\begin{matrix}\\sin{\\left(\\operatorname{q_{3}}{\\left(t \\right)} \\right)} \\sin{\\left(\\operatorname{q_{5}}{\\left(t \\right)} \\right)} - \\sin{\\left(\\operatorname{q_{4}}{\\left(t \\right)} \\right)} \\cos{\\left(\\operatorname{q_{3}}{\\left(t \\right)} \\right)} \\cos{\\left(\\operatorname{q_{5}}{\\left(t \\right)} \\right)} & \\sin{\\left(\\operatorname{q_{3}}{\\left(t \\right)} \\right)} \\cos{\\left(\\operatorname{q_{5}}{\\left(t \\right)} \\right)} + \\sin{\\left(\\operatorname{q_{4}}{\\left(t \\right)} \\right)} \\sin{\\left(\\operatorname{q_{5}}{\\left(t \\right)} \\right)} \\cos{\\left(\\operatorname{q_{3}}{\\left(t \\right)} \\right)} & \\cos{\\left(\\operatorname{q_{3}}{\\left(t \\right)} \\right)} \\cos{\\left(\\operatorname{q_{4}}{\\left(t \\right)} \\right)} & l_{2} + l_{4} \\cos{\\left(\\operatorname{q_{3}}{\\left(t \\right)} \\right)} \\cos{\\left(\\operatorname{q_{4}}{\\left(t \\right)} \\right)} + \\operatorname{q_{2}}{\\left(t \\right)}\\\\- \\sin{\\left(\\operatorname{q_{3}}{\\left(t \\right)} \\right)} \\sin{\\left(\\operatorname{q_{4}}{\\left(t \\right)} \\right)} \\cos{\\left(\\operatorname{q_{5}}{\\left(t \\right)} \\right)} - \\sin{\\left(\\operatorname{q_{5}}{\\left(t \\right)} \\right)} \\cos{\\left(\\operatorname{q_{3}}{\\left(t \\right)} \\right)} & \\sin{\\left(\\operatorname{q_{3}}{\\left(t \\right)} \\right)} \\sin{\\left(\\operatorname{q_{4}}{\\left(t \\right)} \\right)} \\sin{\\left(\\operatorname{q_{5}}{\\left(t \\right)} \\right)} - \\cos{\\left(\\operatorname{q_{3}}{\\left(t \\right)} \\right)} \\cos{\\left(\\operatorname{q_{5}}{\\left(t \\right)} \\right)} & \\sin{\\left(\\operatorname{q_{3}}{\\left(t \\right)} \\right)} \\cos{\\left(\\operatorname{q_{4}}{\\left(t \\right)} \\right)} & l_{4} \\sin{\\left(\\operatorname{q_{3}}{\\left(t \\right)} \\right)} \\cos{\\left(\\operatorname{q_{4}}{\\left(t \\right)} \\right)}\\\\\\cos{\\left(\\operatorname{q_{4}}{\\left(t \\right)} \\right)} \\cos{\\left(\\operatorname{q_{5}}{\\left(t \\right)} \\right)} & - \\sin{\\left(\\operatorname{q_{5}}{\\left(t \\right)} \\right)} \\cos{\\left(\\operatorname{q_{4}}{\\left(t \\right)} \\right)} & \\sin{\\left(\\operatorname{q_{4}}{\\left(t \\right)} \\right)} & l_{1} + l_{3} + l_{4} \\sin{\\left(\\operatorname{q_{4}}{\\left(t \\right)} \\right)} + \\operatorname{q_{1}}{\\left(t \\right)}\\\\0 & 0 & 0 & 1\\end{matrix}\\right]$"
      ],
      "text/plain": [
       "Matrix([\n",
       "[ sin(q_3(t))*sin(q_5(t)) - sin(q_4(t))*cos(q_3(t))*cos(q_5(t)), sin(q_3(t))*cos(q_5(t)) + sin(q_4(t))*sin(q_5(t))*cos(q_3(t)), cos(q_3(t))*cos(q_4(t)), l_2 + l_4*cos(q_3(t))*cos(q_4(t)) + q_2(t)],\n",
       "[-sin(q_3(t))*sin(q_4(t))*cos(q_5(t)) - sin(q_5(t))*cos(q_3(t)), sin(q_3(t))*sin(q_4(t))*sin(q_5(t)) - cos(q_3(t))*cos(q_5(t)), sin(q_3(t))*cos(q_4(t)),                l_4*sin(q_3(t))*cos(q_4(t))],\n",
       "[                                       cos(q_4(t))*cos(q_5(t)),                                      -sin(q_5(t))*cos(q_4(t)),             sin(q_4(t)),       l_1 + l_3 + l_4*sin(q_4(t)) + q_1(t)],\n",
       "[                                                             0,                                                             0,                       0,                                          1]])"
      ]
     },
     "metadata": {},
     "output_type": "display_data"
    }
   ],
   "source": [
    "print('All consequent transformations:')\n",
    "T = sp.eye(4)\n",
    "for i in range(len(dh_table)):\n",
    "    print(f'{i} -> {i + 1}')\n",
    "    res = dh_to_matrix(dh_table[i])\n",
    "    T = T * res\n",
    "    display(res)\n",
    "\n",
    "print('Total transformation:')\n",
    "display(T)"
   ]
  },
  {
   "cell_type": "code",
   "execution_count": 76,
   "metadata": {},
   "outputs": [
    {
     "name": "stdout",
     "output_type": "stream",
     "text": [
      "Translation:\n"
     ]
    },
    {
     "data": {
      "text/latex": [
       "$\\displaystyle \\left[\\begin{matrix}l_{2} + l_{4} \\cos{\\left(\\operatorname{q_{3}}{\\left(t \\right)} \\right)} \\cos{\\left(\\operatorname{q_{4}}{\\left(t \\right)} \\right)} + \\operatorname{q_{2}}{\\left(t \\right)}\\\\l_{4} \\sin{\\left(\\operatorname{q_{3}}{\\left(t \\right)} \\right)} \\cos{\\left(\\operatorname{q_{4}}{\\left(t \\right)} \\right)}\\\\l_{1} + l_{3} + l_{4} \\sin{\\left(\\operatorname{q_{4}}{\\left(t \\right)} \\right)} + \\operatorname{q_{1}}{\\left(t \\right)}\\end{matrix}\\right]$"
      ],
      "text/plain": [
       "Matrix([\n",
       "[l_2 + l_4*cos(q_3(t))*cos(q_4(t)) + q_2(t)],\n",
       "[               l_4*sin(q_3(t))*cos(q_4(t))],\n",
       "[      l_1 + l_3 + l_4*sin(q_4(t)) + q_1(t)]])"
      ]
     },
     "metadata": {},
     "output_type": "display_data"
    },
    {
     "name": "stdout",
     "output_type": "stream",
     "text": [
      "Rotation:\n"
     ]
    },
    {
     "data": {
      "text/latex": [
       "$\\displaystyle \\left[\\begin{matrix}\\sin{\\left(\\operatorname{q_{3}}{\\left(t \\right)} \\right)} \\sin{\\left(\\operatorname{q_{5}}{\\left(t \\right)} \\right)} - \\sin{\\left(\\operatorname{q_{4}}{\\left(t \\right)} \\right)} \\cos{\\left(\\operatorname{q_{3}}{\\left(t \\right)} \\right)} \\cos{\\left(\\operatorname{q_{5}}{\\left(t \\right)} \\right)} & \\sin{\\left(\\operatorname{q_{3}}{\\left(t \\right)} \\right)} \\cos{\\left(\\operatorname{q_{5}}{\\left(t \\right)} \\right)} + \\sin{\\left(\\operatorname{q_{4}}{\\left(t \\right)} \\right)} \\sin{\\left(\\operatorname{q_{5}}{\\left(t \\right)} \\right)} \\cos{\\left(\\operatorname{q_{3}}{\\left(t \\right)} \\right)} & \\cos{\\left(\\operatorname{q_{3}}{\\left(t \\right)} \\right)} \\cos{\\left(\\operatorname{q_{4}}{\\left(t \\right)} \\right)}\\\\- \\sin{\\left(\\operatorname{q_{3}}{\\left(t \\right)} \\right)} \\sin{\\left(\\operatorname{q_{4}}{\\left(t \\right)} \\right)} \\cos{\\left(\\operatorname{q_{5}}{\\left(t \\right)} \\right)} - \\sin{\\left(\\operatorname{q_{5}}{\\left(t \\right)} \\right)} \\cos{\\left(\\operatorname{q_{3}}{\\left(t \\right)} \\right)} & \\sin{\\left(\\operatorname{q_{3}}{\\left(t \\right)} \\right)} \\sin{\\left(\\operatorname{q_{4}}{\\left(t \\right)} \\right)} \\sin{\\left(\\operatorname{q_{5}}{\\left(t \\right)} \\right)} - \\cos{\\left(\\operatorname{q_{3}}{\\left(t \\right)} \\right)} \\cos{\\left(\\operatorname{q_{5}}{\\left(t \\right)} \\right)} & \\sin{\\left(\\operatorname{q_{3}}{\\left(t \\right)} \\right)} \\cos{\\left(\\operatorname{q_{4}}{\\left(t \\right)} \\right)}\\\\\\cos{\\left(\\operatorname{q_{4}}{\\left(t \\right)} \\right)} \\cos{\\left(\\operatorname{q_{5}}{\\left(t \\right)} \\right)} & - \\sin{\\left(\\operatorname{q_{5}}{\\left(t \\right)} \\right)} \\cos{\\left(\\operatorname{q_{4}}{\\left(t \\right)} \\right)} & \\sin{\\left(\\operatorname{q_{4}}{\\left(t \\right)} \\right)}\\end{matrix}\\right]$"
      ],
      "text/plain": [
       "Matrix([\n",
       "[ sin(q_3(t))*sin(q_5(t)) - sin(q_4(t))*cos(q_3(t))*cos(q_5(t)), sin(q_3(t))*cos(q_5(t)) + sin(q_4(t))*sin(q_5(t))*cos(q_3(t)), cos(q_3(t))*cos(q_4(t))],\n",
       "[-sin(q_3(t))*sin(q_4(t))*cos(q_5(t)) - sin(q_5(t))*cos(q_3(t)), sin(q_3(t))*sin(q_4(t))*sin(q_5(t)) - cos(q_3(t))*cos(q_5(t)), sin(q_3(t))*cos(q_4(t))],\n",
       "[                                       cos(q_4(t))*cos(q_5(t)),                                      -sin(q_5(t))*cos(q_4(t)),             sin(q_4(t))]])"
      ]
     },
     "metadata": {},
     "output_type": "display_data"
    }
   ],
   "source": [
    "print('Translation:')\n",
    "display(T[0:3,3])\n",
    "print('Rotation:')\n",
    "display(T[0:3,0:3])"
   ]
  },
  {
   "cell_type": "code",
   "execution_count": 77,
   "metadata": {},
   "outputs": [
    {
     "name": "stdout",
     "output_type": "stream",
     "text": [
      "\\left[\\begin{matrix}\\sin{\\left(\\operatorname{q_{3}}{\\left(t \\right)} \\right)} \\sin{\\left(\\operatorname{q_{5}}{\\left(t \\right)} \\right)} - \\sin{\\left(\\operatorname{q_{4}}{\\left(t \\right)} \\right)} \\cos{\\left(\\operatorname{q_{3}}{\\left(t \\right)} \\right)} \\cos{\\left(\\operatorname{q_{5}}{\\left(t \\right)} \\right)} & \\sin{\\left(\\operatorname{q_{3}}{\\left(t \\right)} \\right)} \\cos{\\left(\\operatorname{q_{5}}{\\left(t \\right)} \\right)} + \\sin{\\left(\\operatorname{q_{4}}{\\left(t \\right)} \\right)} \\sin{\\left(\\operatorname{q_{5}}{\\left(t \\right)} \\right)} \\cos{\\left(\\operatorname{q_{3}}{\\left(t \\right)} \\right)} & \\cos{\\left(\\operatorname{q_{3}}{\\left(t \\right)} \\right)} \\cos{\\left(\\operatorname{q_{4}}{\\left(t \\right)} \\right)} & l_{2} + l_{4} \\cos{\\left(\\operatorname{q_{3}}{\\left(t \\right)} \\right)} \\cos{\\left(\\operatorname{q_{4}}{\\left(t \\right)} \\right)} + \\operatorname{q_{2}}{\\left(t \\right)}\\\\- \\sin{\\left(\\operatorname{q_{3}}{\\left(t \\right)} \\right)} \\sin{\\left(\\operatorname{q_{4}}{\\left(t \\right)} \\right)} \\cos{\\left(\\operatorname{q_{5}}{\\left(t \\right)} \\right)} - \\sin{\\left(\\operatorname{q_{5}}{\\left(t \\right)} \\right)} \\cos{\\left(\\operatorname{q_{3}}{\\left(t \\right)} \\right)} & \\sin{\\left(\\operatorname{q_{3}}{\\left(t \\right)} \\right)} \\sin{\\left(\\operatorname{q_{4}}{\\left(t \\right)} \\right)} \\sin{\\left(\\operatorname{q_{5}}{\\left(t \\right)} \\right)} - \\cos{\\left(\\operatorname{q_{3}}{\\left(t \\right)} \\right)} \\cos{\\left(\\operatorname{q_{5}}{\\left(t \\right)} \\right)} & \\sin{\\left(\\operatorname{q_{3}}{\\left(t \\right)} \\right)} \\cos{\\left(\\operatorname{q_{4}}{\\left(t \\right)} \\right)} & l_{4} \\sin{\\left(\\operatorname{q_{3}}{\\left(t \\right)} \\right)} \\cos{\\left(\\operatorname{q_{4}}{\\left(t \\right)} \\right)}\\\\\\cos{\\left(\\operatorname{q_{4}}{\\left(t \\right)} \\right)} \\cos{\\left(\\operatorname{q_{5}}{\\left(t \\right)} \\right)} & - \\sin{\\left(\\operatorname{q_{5}}{\\left(t \\right)} \\right)} \\cos{\\left(\\operatorname{q_{4}}{\\left(t \\right)} \\right)} & \\sin{\\left(\\operatorname{q_{4}}{\\left(t \\right)} \\right)} & l_{1} + l_{3} + l_{4} \\sin{\\left(\\operatorname{q_{4}}{\\left(t \\right)} \\right)} + \\operatorname{q_{1}}{\\left(t \\right)}\\\\0 & 0 & 0 & 1\\end{matrix}\\right]\n"
     ]
    }
   ],
   "source": [
    "print(sp.latex(T))"
   ]
  },
  {
   "cell_type": "code",
   "execution_count": null,
   "metadata": {},
   "outputs": [],
   "source": []
  }
 ],
 "metadata": {
  "kernelspec": {
   "display_name": "Python 3.9.12 ('base')",
   "language": "python",
   "name": "python3"
  },
  "language_info": {
   "codemirror_mode": {
    "name": "ipython",
    "version": 3
   },
   "file_extension": ".py",
   "mimetype": "text/x-python",
   "name": "python",
   "nbconvert_exporter": "python",
   "pygments_lexer": "ipython3",
   "version": "3.9.12"
  },
  "orig_nbformat": 4,
  "vscode": {
   "interpreter": {
    "hash": "690fcc030dbde6f3f652c519b06a0d95da528e66105ed58c88e506e5818277cb"
   }
  }
 },
 "nbformat": 4,
 "nbformat_minor": 2
}
