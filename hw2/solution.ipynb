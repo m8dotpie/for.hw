{
 "cells": [
  {
   "cell_type": "code",
   "execution_count": 16,
   "metadata": {},
   "outputs": [],
   "source": [
    "import numpy as np\n",
    "import sympy as sp\n",
    "from sympy import cos, sin"
   ]
  },
  {
   "cell_type": "code",
   "execution_count": 19,
   "metadata": {},
   "outputs": [],
   "source": [
    "qs = sp.symbols(r\"q_:6\") # Joints effect\n",
    "ls = sp.symbols(r\"l_:6\") # Link lengths\n",
    "hs = sp.symbols(r\"h_:3\") # Link heights\n",
    "ws = sp.symbols(r\"w_:3\") # Link widths\n",
    "rs = sp.symbols(r\"r_:6\") # Link radii"
   ]
  },
  {
   "cell_type": "code",
   "execution_count": 21,
   "metadata": {},
   "outputs": [],
   "source": [
    "def rz(theta):\n",
    "    rot = sp.zeros(4,4)\n",
    "    rot[3,3] = 1\n",
    "    rot[0,:] = [[cos(theta), -sin(theta),0,0]]\n",
    "    rot[1,:] = [[sin(theta), cos(theta),0,0]]\n",
    "    rot[2,2] = 1\n",
    "\n",
    "    return rot\n",
    "\n",
    "def rx(theta): \n",
    "    rot = sp.zeros(4,4)\n",
    "    rot[3,3] = 1\n",
    "    rot[0,0] = 1\n",
    "    rot[1,:] = [[0, cos(theta), -sin(theta),0]]\n",
    "    rot[2,:] = [[0, sin(theta), cos(theta),0]]\n",
    "\n",
    "    return rot\n",
    "\n",
    "\n",
    "def ry(theta): \n",
    "    rot = sp.zeros(4,4)\n",
    "    rot[3,3] = 1\n",
    "    rot[1,1] = 1\n",
    "    rot[0,:] = [[ cos(theta), 0, sin(theta),0]]\n",
    "    rot[2,:] = [[-sin(theta),0, cos(theta),0]]\n",
    "\n",
    "    return rot\n",
    "\n",
    "\n",
    "def trans(vector):\n",
    "    mat = sp.eye(4)\n",
    "    mat[0:3,3] = vector\n",
    "    return mat\n",
    "\n",
    "def tx(dx):\n",
    "    return trans([dx, 0, 0])\n",
    "\n",
    "def ty(dy):\n",
    "    return trans([0, dy, 0])\n",
    "\n",
    "def tz(dz):\n",
    "    return trans([0, 0, dz])"
   ]
  },
  {
   "cell_type": "code",
   "execution_count": 22,
   "metadata": {},
   "outputs": [],
   "source": [
    "T_01 = tz(qs[1])\n",
    "T_12 = tz(hs[1] / 2 + ws[2] / 2) @ tx(qs[2])\n",
    "T_23 = tx(hs[2] / 2 + rs[3]) @ rz(qs[3])\n",
    "T_34 = tz(ls[3] / 2 + rs[4]) @ ry(qs[4])\n",
    "T_45 = tx(rs[4] + ls[5] / 2) @ rx(qs[5])"
   ]
  },
  {
   "cell_type": "code",
   "execution_count": 31,
   "metadata": {},
   "outputs": [
    {
     "data": {
      "text/latex": [
       "$\\displaystyle \\left[\\begin{matrix}\\cos{\\left(q_{3} \\right)} \\cos{\\left(q_{4} \\right)} & - \\sin{\\left(q_{3} \\right)} \\cos{\\left(q_{5} \\right)} + \\sin{\\left(q_{4} \\right)} \\sin{\\left(q_{5} \\right)} \\cos{\\left(q_{3} \\right)} & \\sin{\\left(q_{3} \\right)} \\sin{\\left(q_{5} \\right)} + \\sin{\\left(q_{4} \\right)} \\cos{\\left(q_{3} \\right)} \\cos{\\left(q_{5} \\right)} & \\frac{h_{2}}{2} + q_{2} + r_{3} + \\left(\\frac{l_{5}}{2} + r_{4}\\right) \\cos{\\left(q_{3} \\right)} \\cos{\\left(q_{4} \\right)}\\\\\\sin{\\left(q_{3} \\right)} \\cos{\\left(q_{4} \\right)} & \\sin{\\left(q_{3} \\right)} \\sin{\\left(q_{4} \\right)} \\sin{\\left(q_{5} \\right)} + \\cos{\\left(q_{3} \\right)} \\cos{\\left(q_{5} \\right)} & \\sin{\\left(q_{3} \\right)} \\sin{\\left(q_{4} \\right)} \\cos{\\left(q_{5} \\right)} - \\sin{\\left(q_{5} \\right)} \\cos{\\left(q_{3} \\right)} & \\left(\\frac{l_{5}}{2} + r_{4}\\right) \\sin{\\left(q_{3} \\right)} \\cos{\\left(q_{4} \\right)}\\\\- \\sin{\\left(q_{4} \\right)} & \\sin{\\left(q_{5} \\right)} \\cos{\\left(q_{4} \\right)} & \\cos{\\left(q_{4} \\right)} \\cos{\\left(q_{5} \\right)} & \\frac{h_{1}}{2} + \\frac{l_{3}}{2} + q_{1} + r_{4} + \\frac{w_{2}}{2} - \\frac{\\left(l_{5} + 2 r_{4}\\right) \\sin{\\left(q_{4} \\right)}}{2}\\\\0 & 0 & 0 & 1\\end{matrix}\\right]$"
      ],
      "text/plain": [
       "Matrix([\n",
       "[cos(q_3)*cos(q_4), -sin(q_3)*cos(q_5) + sin(q_4)*sin(q_5)*cos(q_3), sin(q_3)*sin(q_5) + sin(q_4)*cos(q_3)*cos(q_5),          h_2/2 + q_2 + r_3 + (l_5/2 + r_4)*cos(q_3)*cos(q_4)],\n",
       "[sin(q_3)*cos(q_4),  sin(q_3)*sin(q_4)*sin(q_5) + cos(q_3)*cos(q_5), sin(q_3)*sin(q_4)*cos(q_5) - sin(q_5)*cos(q_3),                              (l_5/2 + r_4)*sin(q_3)*cos(q_4)],\n",
       "[        -sin(q_4),                               sin(q_5)*cos(q_4),                              cos(q_4)*cos(q_5), h_1/2 + l_3/2 + q_1 + r_4 + w_2/2 - (l_5 + 2*r_4)*sin(q_4)/2],\n",
       "[                0,                                               0,                                              0,                                                            1]])"
      ]
     },
     "execution_count": 31,
     "metadata": {},
     "output_type": "execute_result"
    }
   ],
   "source": [
    "T = T_01 @ T_12 @ T_23 @ T_34 @ T_45\n",
    "T.simplify()\n",
    "T"
   ]
  },
  {
   "cell_type": "markdown",
   "metadata": {},
   "source": []
  },
  {
   "cell_type": "code",
   "execution_count": null,
   "metadata": {},
   "outputs": [],
   "source": []
  }
 ],
 "metadata": {
  "kernelspec": {
   "display_name": "Python 3.9.12 ('base')",
   "language": "python",
   "name": "python3"
  },
  "language_info": {
   "codemirror_mode": {
    "name": "ipython",
    "version": 3
   },
   "file_extension": ".py",
   "mimetype": "text/x-python",
   "name": "python",
   "nbconvert_exporter": "python",
   "pygments_lexer": "ipython3",
   "version": "3.9.12"
  },
  "orig_nbformat": 4,
  "vscode": {
   "interpreter": {
    "hash": "690fcc030dbde6f3f652c519b06a0d95da528e66105ed58c88e506e5818277cb"
   }
  }
 },
 "nbformat": 4,
 "nbformat_minor": 2
}
