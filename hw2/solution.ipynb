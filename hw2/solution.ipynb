{
 "cells": [
  {
   "cell_type": "markdown",
   "metadata": {},
   "source": [
    "# Imports and inits"
   ]
  },
  {
   "cell_type": "code",
   "execution_count": 32,
   "metadata": {},
   "outputs": [],
   "source": [
    "import numpy as np\n",
    "import sympy as sp\n",
    "from sympy import cos, sin"
   ]
  },
  {
   "cell_type": "code",
   "execution_count": 40,
   "metadata": {},
   "outputs": [],
   "source": [
    "t = sp.Symbol('t')\n",
    "qs = [sp.Function(f'q_{i}')(t) for i in range(6)] # Joints effect\n",
    "ls = sp.symbols(r\"l_:6\") # Link lengths\n",
    "hs = sp.symbols(r\"h_:3\") # Link heights\n",
    "ws = sp.symbols(r\"w_:3\") # Link widths\n",
    "rs = sp.symbols(r\"r_:6\") # Link radii"
   ]
  },
  {
   "cell_type": "code",
   "execution_count": 41,
   "metadata": {},
   "outputs": [
    {
     "data": {
      "text/plain": [
       "[q_0(t), q_1(t), q_2(t), q_3(t), q_4(t), q_5(t)]"
      ]
     },
     "execution_count": 41,
     "metadata": {},
     "output_type": "execute_result"
    }
   ],
   "source": [
    "qs"
   ]
  },
  {
   "cell_type": "code",
   "execution_count": 42,
   "metadata": {},
   "outputs": [],
   "source": [
    "# Source: symbolic_fk.ipynb demo code\n",
    "\n",
    "def rz(theta):\n",
    "    rot = sp.zeros(4,4)\n",
    "    rot[3,3] = 1\n",
    "    rot[0,:] = [[cos(theta), -sin(theta),0,0]]\n",
    "    rot[1,:] = [[sin(theta), cos(theta),0,0]]\n",
    "    rot[2,2] = 1\n",
    "\n",
    "    return rot\n",
    "\n",
    "def rx(theta): \n",
    "    rot = sp.zeros(4,4)\n",
    "    rot[3,3] = 1\n",
    "    rot[0,0] = 1\n",
    "    rot[1,:] = [[0, cos(theta), -sin(theta),0]]\n",
    "    rot[2,:] = [[0, sin(theta), cos(theta),0]]\n",
    "\n",
    "    return rot\n",
    "\n",
    "\n",
    "def ry(theta): \n",
    "    rot = sp.zeros(4,4)\n",
    "    rot[3,3] = 1\n",
    "    rot[1,1] = 1\n",
    "    rot[0,:] = [[ cos(theta), 0, sin(theta),0]]\n",
    "    rot[2,:] = [[-sin(theta),0, cos(theta),0]]\n",
    "\n",
    "    return rot\n",
    "\n",
    "\n",
    "def trans(vector):\n",
    "    mat = sp.eye(4)\n",
    "    mat[0:3,3] = vector\n",
    "    return mat\n",
    "\n",
    "def tx(dx):\n",
    "    return trans([dx, 0, 0])\n",
    "\n",
    "def ty(dy):\n",
    "    return trans([0, dy, 0])\n",
    "\n",
    "def tz(dz):\n",
    "    return trans([0, 0, dz])"
   ]
  },
  {
   "cell_type": "markdown",
   "metadata": {},
   "source": [
    "# Calculating transformation"
   ]
  },
  {
   "cell_type": "code",
   "execution_count": 63,
   "metadata": {},
   "outputs": [],
   "source": [
    "dh_table = [\n",
    "    [0, 0, 0, 0],\n",
    "    [sp.pi / 2, sp.pi / 2, 0, qs[1] + ls[1]],\n",
    "    [0, -sp.pi / 2, 0, qs[2] + ls[2]],\n",
    "    [-sp.pi / 2 + qs[3], sp.pi / 2, 0, ls[3]],\n",
    "    [sp.pi / 2 + qs[4], sp.pi / 2, 0, 0],\n",
    "    [qs[5], 0, 0, ls[4]]\n",
    "]"
   ]
  },
  {
   "cell_type": "code",
   "execution_count": 67,
   "metadata": {},
   "outputs": [],
   "source": [
    "def dh_to_matrix(dh_row):\n",
    "    theta, alpha, a, d = dh_row\n",
    "    return rz(theta) * tx(a) * tz(d) * rx(alpha)"
   ]
  },
  {
   "cell_type": "code",
   "execution_count": 107,
   "metadata": {},
   "outputs": [
    {
     "name": "stdout",
     "output_type": "stream",
     "text": [
      "All consequent transformations:\n",
      "0 -> 1\n"
     ]
    },
    {
     "data": {
      "text/latex": [
       "$\\displaystyle \\left[\\begin{matrix}1 & 0 & 0 & 0\\\\0 & 1 & 0 & 0\\\\0 & 0 & 1 & 0\\\\0 & 0 & 0 & 1\\end{matrix}\\right]$"
      ],
      "text/plain": [
       "Matrix([\n",
       "[1, 0, 0, 0],\n",
       "[0, 1, 0, 0],\n",
       "[0, 0, 1, 0],\n",
       "[0, 0, 0, 1]])"
      ]
     },
     "metadata": {},
     "output_type": "display_data"
    },
    {
     "name": "stdout",
     "output_type": "stream",
     "text": [
      "1 -> 2\n"
     ]
    },
    {
     "data": {
      "text/latex": [
       "$\\displaystyle \\left[\\begin{matrix}0 & 0 & 1 & 0\\\\1 & 0 & 0 & 0\\\\0 & 1 & 0 & l_{1} + \\operatorname{q_{1}}{\\left(t \\right)}\\\\0 & 0 & 0 & 1\\end{matrix}\\right]$"
      ],
      "text/plain": [
       "Matrix([\n",
       "[0, 0, 1,            0],\n",
       "[1, 0, 0,            0],\n",
       "[0, 1, 0, l_1 + q_1(t)],\n",
       "[0, 0, 0,            1]])"
      ]
     },
     "metadata": {},
     "output_type": "display_data"
    },
    {
     "name": "stdout",
     "output_type": "stream",
     "text": [
      "2 -> 3\n"
     ]
    },
    {
     "data": {
      "text/latex": [
       "$\\displaystyle \\left[\\begin{matrix}1 & 0 & 0 & 0\\\\0 & 0 & 1 & 0\\\\0 & -1 & 0 & l_{2} + \\operatorname{q_{2}}{\\left(t \\right)}\\\\0 & 0 & 0 & 1\\end{matrix}\\right]$"
      ],
      "text/plain": [
       "Matrix([\n",
       "[1,  0, 0,            0],\n",
       "[0,  0, 1,            0],\n",
       "[0, -1, 0, l_2 + q_2(t)],\n",
       "[0,  0, 0,            1]])"
      ]
     },
     "metadata": {},
     "output_type": "display_data"
    },
    {
     "name": "stdout",
     "output_type": "stream",
     "text": [
      "3 -> 4\n"
     ]
    },
    {
     "data": {
      "text/latex": [
       "$\\displaystyle \\left[\\begin{matrix}\\sin{\\left(\\operatorname{q_{3}}{\\left(t \\right)} \\right)} & 0 & - \\cos{\\left(\\operatorname{q_{3}}{\\left(t \\right)} \\right)} & 0\\\\- \\cos{\\left(\\operatorname{q_{3}}{\\left(t \\right)} \\right)} & 0 & - \\sin{\\left(\\operatorname{q_{3}}{\\left(t \\right)} \\right)} & 0\\\\0 & 1 & 0 & l_{3}\\\\0 & 0 & 0 & 1\\end{matrix}\\right]$"
      ],
      "text/plain": [
       "Matrix([\n",
       "[ sin(q_3(t)), 0, -cos(q_3(t)),   0],\n",
       "[-cos(q_3(t)), 0, -sin(q_3(t)),   0],\n",
       "[           0, 1,            0, l_3],\n",
       "[           0, 0,            0,   1]])"
      ]
     },
     "metadata": {},
     "output_type": "display_data"
    },
    {
     "name": "stdout",
     "output_type": "stream",
     "text": [
      "4 -> 5\n"
     ]
    },
    {
     "data": {
      "text/latex": [
       "$\\displaystyle \\left[\\begin{matrix}- \\sin{\\left(\\operatorname{q_{4}}{\\left(t \\right)} \\right)} & 0 & \\cos{\\left(\\operatorname{q_{4}}{\\left(t \\right)} \\right)} & 0\\\\\\cos{\\left(\\operatorname{q_{4}}{\\left(t \\right)} \\right)} & 0 & \\sin{\\left(\\operatorname{q_{4}}{\\left(t \\right)} \\right)} & 0\\\\0 & 1 & 0 & 0\\\\0 & 0 & 0 & 1\\end{matrix}\\right]$"
      ],
      "text/plain": [
       "Matrix([\n",
       "[-sin(q_4(t)), 0, cos(q_4(t)), 0],\n",
       "[ cos(q_4(t)), 0, sin(q_4(t)), 0],\n",
       "[           0, 1,           0, 0],\n",
       "[           0, 0,           0, 1]])"
      ]
     },
     "metadata": {},
     "output_type": "display_data"
    },
    {
     "name": "stdout",
     "output_type": "stream",
     "text": [
      "5 -> 6\n"
     ]
    },
    {
     "data": {
      "text/latex": [
       "$\\displaystyle \\left[\\begin{matrix}\\cos{\\left(\\operatorname{q_{5}}{\\left(t \\right)} \\right)} & - \\sin{\\left(\\operatorname{q_{5}}{\\left(t \\right)} \\right)} & 0 & 0\\\\\\sin{\\left(\\operatorname{q_{5}}{\\left(t \\right)} \\right)} & \\cos{\\left(\\operatorname{q_{5}}{\\left(t \\right)} \\right)} & 0 & 0\\\\0 & 0 & 1 & l_{4}\\\\0 & 0 & 0 & 1\\end{matrix}\\right]$"
      ],
      "text/plain": [
       "Matrix([\n",
       "[cos(q_5(t)), -sin(q_5(t)), 0,   0],\n",
       "[sin(q_5(t)),  cos(q_5(t)), 0,   0],\n",
       "[          0,            0, 1, l_4],\n",
       "[          0,            0, 0,   1]])"
      ]
     },
     "metadata": {},
     "output_type": "display_data"
    },
    {
     "name": "stdout",
     "output_type": "stream",
     "text": [
      "Total transformation:\n"
     ]
    },
    {
     "data": {
      "text/latex": [
       "$\\displaystyle \\left[\\begin{matrix}\\sin{\\left(\\operatorname{q_{3}}{\\left(t \\right)} \\right)} \\sin{\\left(\\operatorname{q_{5}}{\\left(t \\right)} \\right)} - \\sin{\\left(\\operatorname{q_{4}}{\\left(t \\right)} \\right)} \\cos{\\left(\\operatorname{q_{3}}{\\left(t \\right)} \\right)} \\cos{\\left(\\operatorname{q_{5}}{\\left(t \\right)} \\right)} & \\sin{\\left(\\operatorname{q_{3}}{\\left(t \\right)} \\right)} \\cos{\\left(\\operatorname{q_{5}}{\\left(t \\right)} \\right)} + \\sin{\\left(\\operatorname{q_{4}}{\\left(t \\right)} \\right)} \\sin{\\left(\\operatorname{q_{5}}{\\left(t \\right)} \\right)} \\cos{\\left(\\operatorname{q_{3}}{\\left(t \\right)} \\right)} & \\cos{\\left(\\operatorname{q_{3}}{\\left(t \\right)} \\right)} \\cos{\\left(\\operatorname{q_{4}}{\\left(t \\right)} \\right)} & l_{2} + l_{4} \\cos{\\left(\\operatorname{q_{3}}{\\left(t \\right)} \\right)} \\cos{\\left(\\operatorname{q_{4}}{\\left(t \\right)} \\right)} + \\operatorname{q_{2}}{\\left(t \\right)}\\\\- \\sin{\\left(\\operatorname{q_{3}}{\\left(t \\right)} \\right)} \\sin{\\left(\\operatorname{q_{4}}{\\left(t \\right)} \\right)} \\cos{\\left(\\operatorname{q_{5}}{\\left(t \\right)} \\right)} - \\sin{\\left(\\operatorname{q_{5}}{\\left(t \\right)} \\right)} \\cos{\\left(\\operatorname{q_{3}}{\\left(t \\right)} \\right)} & \\sin{\\left(\\operatorname{q_{3}}{\\left(t \\right)} \\right)} \\sin{\\left(\\operatorname{q_{4}}{\\left(t \\right)} \\right)} \\sin{\\left(\\operatorname{q_{5}}{\\left(t \\right)} \\right)} - \\cos{\\left(\\operatorname{q_{3}}{\\left(t \\right)} \\right)} \\cos{\\left(\\operatorname{q_{5}}{\\left(t \\right)} \\right)} & \\sin{\\left(\\operatorname{q_{3}}{\\left(t \\right)} \\right)} \\cos{\\left(\\operatorname{q_{4}}{\\left(t \\right)} \\right)} & l_{4} \\sin{\\left(\\operatorname{q_{3}}{\\left(t \\right)} \\right)} \\cos{\\left(\\operatorname{q_{4}}{\\left(t \\right)} \\right)}\\\\\\cos{\\left(\\operatorname{q_{4}}{\\left(t \\right)} \\right)} \\cos{\\left(\\operatorname{q_{5}}{\\left(t \\right)} \\right)} & - \\sin{\\left(\\operatorname{q_{5}}{\\left(t \\right)} \\right)} \\cos{\\left(\\operatorname{q_{4}}{\\left(t \\right)} \\right)} & \\sin{\\left(\\operatorname{q_{4}}{\\left(t \\right)} \\right)} & l_{1} + l_{3} + l_{4} \\sin{\\left(\\operatorname{q_{4}}{\\left(t \\right)} \\right)} + \\operatorname{q_{1}}{\\left(t \\right)}\\\\0 & 0 & 0 & 1\\end{matrix}\\right]$"
      ],
      "text/plain": [
       "Matrix([\n",
       "[ sin(q_3(t))*sin(q_5(t)) - sin(q_4(t))*cos(q_3(t))*cos(q_5(t)), sin(q_3(t))*cos(q_5(t)) + sin(q_4(t))*sin(q_5(t))*cos(q_3(t)), cos(q_3(t))*cos(q_4(t)), l_2 + l_4*cos(q_3(t))*cos(q_4(t)) + q_2(t)],\n",
       "[-sin(q_3(t))*sin(q_4(t))*cos(q_5(t)) - sin(q_5(t))*cos(q_3(t)), sin(q_3(t))*sin(q_4(t))*sin(q_5(t)) - cos(q_3(t))*cos(q_5(t)), sin(q_3(t))*cos(q_4(t)),                l_4*sin(q_3(t))*cos(q_4(t))],\n",
       "[                                       cos(q_4(t))*cos(q_5(t)),                                      -sin(q_5(t))*cos(q_4(t)),             sin(q_4(t)),       l_1 + l_3 + l_4*sin(q_4(t)) + q_1(t)],\n",
       "[                                                             0,                                                             0,                       0,                                          1]])"
      ]
     },
     "metadata": {},
     "output_type": "display_data"
    }
   ],
   "source": [
    "print('All consequent transformations:')\n",
    "T = sp.eye(4)\n",
    "for i in range(len(dh_table)):\n",
    "    print(f'{i} -> {i + 1}')\n",
    "    res = dh_to_matrix(dh_table[i])\n",
    "    T = T * res\n",
    "    display(res)\n",
    "\n",
    "print('Total transformation:')\n",
    "display(T)"
   ]
  },
  {
   "cell_type": "code",
   "execution_count": 81,
   "metadata": {},
   "outputs": [
    {
     "name": "stdout",
     "output_type": "stream",
     "text": [
      "Translation:\n"
     ]
    },
    {
     "data": {
      "text/latex": [
       "$\\displaystyle \\left[\\begin{matrix}l_{2} + l_{4} \\cos{\\left(\\operatorname{q_{3}}{\\left(t \\right)} \\right)} \\cos{\\left(\\operatorname{q_{4}}{\\left(t \\right)} \\right)} + \\operatorname{q_{2}}{\\left(t \\right)}\\\\l_{4} \\sin{\\left(\\operatorname{q_{3}}{\\left(t \\right)} \\right)} \\cos{\\left(\\operatorname{q_{4}}{\\left(t \\right)} \\right)}\\\\l_{1} + l_{3} + l_{4} \\sin{\\left(\\operatorname{q_{4}}{\\left(t \\right)} \\right)} + \\operatorname{q_{1}}{\\left(t \\right)}\\end{matrix}\\right]$"
      ],
      "text/plain": [
       "Matrix([\n",
       "[l_2 + l_4*cos(q_3(t))*cos(q_4(t)) + q_2(t)],\n",
       "[               l_4*sin(q_3(t))*cos(q_4(t))],\n",
       "[      l_1 + l_3 + l_4*sin(q_4(t)) + q_1(t)]])"
      ]
     },
     "metadata": {},
     "output_type": "display_data"
    },
    {
     "name": "stdout",
     "output_type": "stream",
     "text": [
      "Rotation:\n"
     ]
    },
    {
     "data": {
      "text/latex": [
       "$\\displaystyle \\left[\\begin{matrix}\\sin{\\left(\\operatorname{q_{3}}{\\left(t \\right)} \\right)} \\sin{\\left(\\operatorname{q_{5}}{\\left(t \\right)} \\right)} - \\sin{\\left(\\operatorname{q_{4}}{\\left(t \\right)} \\right)} \\cos{\\left(\\operatorname{q_{3}}{\\left(t \\right)} \\right)} \\cos{\\left(\\operatorname{q_{5}}{\\left(t \\right)} \\right)} & \\sin{\\left(\\operatorname{q_{3}}{\\left(t \\right)} \\right)} \\cos{\\left(\\operatorname{q_{5}}{\\left(t \\right)} \\right)} + \\sin{\\left(\\operatorname{q_{4}}{\\left(t \\right)} \\right)} \\sin{\\left(\\operatorname{q_{5}}{\\left(t \\right)} \\right)} \\cos{\\left(\\operatorname{q_{3}}{\\left(t \\right)} \\right)} & \\cos{\\left(\\operatorname{q_{3}}{\\left(t \\right)} \\right)} \\cos{\\left(\\operatorname{q_{4}}{\\left(t \\right)} \\right)}\\\\- \\sin{\\left(\\operatorname{q_{3}}{\\left(t \\right)} \\right)} \\sin{\\left(\\operatorname{q_{4}}{\\left(t \\right)} \\right)} \\cos{\\left(\\operatorname{q_{5}}{\\left(t \\right)} \\right)} - \\sin{\\left(\\operatorname{q_{5}}{\\left(t \\right)} \\right)} \\cos{\\left(\\operatorname{q_{3}}{\\left(t \\right)} \\right)} & \\sin{\\left(\\operatorname{q_{3}}{\\left(t \\right)} \\right)} \\sin{\\left(\\operatorname{q_{4}}{\\left(t \\right)} \\right)} \\sin{\\left(\\operatorname{q_{5}}{\\left(t \\right)} \\right)} - \\cos{\\left(\\operatorname{q_{3}}{\\left(t \\right)} \\right)} \\cos{\\left(\\operatorname{q_{5}}{\\left(t \\right)} \\right)} & \\sin{\\left(\\operatorname{q_{3}}{\\left(t \\right)} \\right)} \\cos{\\left(\\operatorname{q_{4}}{\\left(t \\right)} \\right)}\\\\\\cos{\\left(\\operatorname{q_{4}}{\\left(t \\right)} \\right)} \\cos{\\left(\\operatorname{q_{5}}{\\left(t \\right)} \\right)} & - \\sin{\\left(\\operatorname{q_{5}}{\\left(t \\right)} \\right)} \\cos{\\left(\\operatorname{q_{4}}{\\left(t \\right)} \\right)} & \\sin{\\left(\\operatorname{q_{4}}{\\left(t \\right)} \\right)}\\end{matrix}\\right]$"
      ],
      "text/plain": [
       "Matrix([\n",
       "[ sin(q_3(t))*sin(q_5(t)) - sin(q_4(t))*cos(q_3(t))*cos(q_5(t)), sin(q_3(t))*cos(q_5(t)) + sin(q_4(t))*sin(q_5(t))*cos(q_3(t)), cos(q_3(t))*cos(q_4(t))],\n",
       "[-sin(q_3(t))*sin(q_4(t))*cos(q_5(t)) - sin(q_5(t))*cos(q_3(t)), sin(q_3(t))*sin(q_4(t))*sin(q_5(t)) - cos(q_3(t))*cos(q_5(t)), sin(q_3(t))*cos(q_4(t))],\n",
       "[                                       cos(q_4(t))*cos(q_5(t)),                                      -sin(q_5(t))*cos(q_4(t)),             sin(q_4(t))]])"
      ]
     },
     "metadata": {},
     "output_type": "display_data"
    }
   ],
   "source": [
    "print('Translation:')\n",
    "display(T[0:3,3])\n",
    "print('Rotation:')\n",
    "display(T[0:3,0:3])"
   ]
  },
  {
   "cell_type": "code",
   "execution_count": 106,
   "metadata": {},
   "outputs": [],
   "source": [
    "def forward(i, j):\n",
    "    T = sp.eye(4)\n",
    "    for k in range(i, j):\n",
    "        T = T * dh_to_matrix(dh_table[k])\n",
    "    return T"
   ]
  },
  {
   "cell_type": "markdown",
   "metadata": {},
   "source": [
    "# Calculating Jacobian"
   ]
  },
  {
   "cell_type": "code",
   "execution_count": 135,
   "metadata": {},
   "outputs": [],
   "source": [
    "w1 = sp.Matrix([0, 0, 0]) # local axis of joint 1\n",
    "w2 = sp.Matrix([0, 0, 0]) # local axis of joint 2\n",
    "w3 = sp.Matrix([0, 0, 1]) # local axis of joint 3\n",
    "w4 = sp.Matrix([0, 1, 0]) # local axis of joint 4\n",
    "w5 = sp.Matrix([1, 0, 0]) # local axis of joint 5\n",
    "\n",
    "R1 = forward(0, 4)[0:3,0:3]\n",
    "R2 = forward(0, 5)[0:3,0:3]\n",
    "R3 = forward(0, 6)[0:3,0:3]\n",
    "\n",
    "w3 = R1 @ w3\n",
    "w4 = R2 @ w4\n",
    "w5 = R3 @ w5"
   ]
  },
  {
   "cell_type": "code",
   "execution_count": 142,
   "metadata": {},
   "outputs": [
    {
     "data": {
      "text/latex": [
       "$\\displaystyle \\left[\\begin{matrix}\\sin{\\left(\\operatorname{q_{3}}{\\left(t \\right)} \\right)}\\\\- \\cos{\\left(\\operatorname{q_{3}}{\\left(t \\right)} \\right)}\\\\0\\end{matrix}\\right]$"
      ],
      "text/plain": [
       "Matrix([\n",
       "[ sin(q_3(t))],\n",
       "[-cos(q_3(t))],\n",
       "[           0]])"
      ]
     },
     "metadata": {},
     "output_type": "display_data"
    }
   ],
   "source": [
    "display(w3)"
   ]
  },
  {
   "cell_type": "code",
   "execution_count": 178,
   "metadata": {},
   "outputs": [],
   "source": [
    "J_w = []\n",
    "for i in range(3):\n",
    "    J_w.append([w1[i], w2[i], w3[i], w4[i], w5[i]])\n",
    "J_w = sp.Matrix(J_w)\n",
    "\n",
    "J_v = []\n",
    "\n",
    "P = forward(0, 6)[0:3,3]\n",
    "\n",
    "for j in range(3):\n",
    "    J_v.append([])\n",
    "    for k in range(5):\n",
    "        J_v[j].append(sp.Derivative(P[j], qs[k + 1]).doit())\n",
    "J_v = sp.Matrix(J_v)"
   ]
  },
  {
   "cell_type": "code",
   "execution_count": 179,
   "metadata": {},
   "outputs": [
    {
     "name": "stdout",
     "output_type": "stream",
     "text": [
      "Angular velocity Jacobian:\n"
     ]
    },
    {
     "data": {
      "text/latex": [
       "$\\displaystyle \\left[\\begin{matrix}0 & 0 & \\sin{\\left(\\operatorname{q_{3}}{\\left(t \\right)} \\right)} & \\sin{\\left(\\operatorname{q_{3}}{\\left(t \\right)} \\right)} & \\sin{\\left(\\operatorname{q_{3}}{\\left(t \\right)} \\right)} \\sin{\\left(\\operatorname{q_{5}}{\\left(t \\right)} \\right)} - \\sin{\\left(\\operatorname{q_{4}}{\\left(t \\right)} \\right)} \\cos{\\left(\\operatorname{q_{3}}{\\left(t \\right)} \\right)} \\cos{\\left(\\operatorname{q_{5}}{\\left(t \\right)} \\right)}\\\\0 & 0 & - \\cos{\\left(\\operatorname{q_{3}}{\\left(t \\right)} \\right)} & - \\cos{\\left(\\operatorname{q_{3}}{\\left(t \\right)} \\right)} & - \\sin{\\left(\\operatorname{q_{3}}{\\left(t \\right)} \\right)} \\sin{\\left(\\operatorname{q_{4}}{\\left(t \\right)} \\right)} \\cos{\\left(\\operatorname{q_{5}}{\\left(t \\right)} \\right)} - \\sin{\\left(\\operatorname{q_{5}}{\\left(t \\right)} \\right)} \\cos{\\left(\\operatorname{q_{3}}{\\left(t \\right)} \\right)}\\\\0 & 0 & 0 & 0 & \\cos{\\left(\\operatorname{q_{4}}{\\left(t \\right)} \\right)} \\cos{\\left(\\operatorname{q_{5}}{\\left(t \\right)} \\right)}\\end{matrix}\\right]$"
      ],
      "text/plain": [
       "Matrix([\n",
       "[0, 0,  sin(q_3(t)),  sin(q_3(t)),  sin(q_3(t))*sin(q_5(t)) - sin(q_4(t))*cos(q_3(t))*cos(q_5(t))],\n",
       "[0, 0, -cos(q_3(t)), -cos(q_3(t)), -sin(q_3(t))*sin(q_4(t))*cos(q_5(t)) - sin(q_5(t))*cos(q_3(t))],\n",
       "[0, 0,            0,            0,                                        cos(q_4(t))*cos(q_5(t))]])"
      ]
     },
     "metadata": {},
     "output_type": "display_data"
    },
    {
     "name": "stdout",
     "output_type": "stream",
     "text": [
      "Linear Velocity Jacobian:\n"
     ]
    },
    {
     "data": {
      "text/latex": [
       "$\\displaystyle \\left[\\begin{matrix}0 & 1 & - l_{4} \\sin{\\left(\\operatorname{q_{3}}{\\left(t \\right)} \\right)} \\cos{\\left(\\operatorname{q_{4}}{\\left(t \\right)} \\right)} & - l_{4} \\sin{\\left(\\operatorname{q_{4}}{\\left(t \\right)} \\right)} \\cos{\\left(\\operatorname{q_{3}}{\\left(t \\right)} \\right)} & 0\\\\0 & 0 & l_{4} \\cos{\\left(\\operatorname{q_{3}}{\\left(t \\right)} \\right)} \\cos{\\left(\\operatorname{q_{4}}{\\left(t \\right)} \\right)} & - l_{4} \\sin{\\left(\\operatorname{q_{3}}{\\left(t \\right)} \\right)} \\sin{\\left(\\operatorname{q_{4}}{\\left(t \\right)} \\right)} & 0\\\\1 & 0 & 0 & l_{4} \\cos{\\left(\\operatorname{q_{4}}{\\left(t \\right)} \\right)} & 0\\end{matrix}\\right]$"
      ],
      "text/plain": [
       "Matrix([\n",
       "[0, 1, -l_4*sin(q_3(t))*cos(q_4(t)), -l_4*sin(q_4(t))*cos(q_3(t)), 0],\n",
       "[0, 0,  l_4*cos(q_3(t))*cos(q_4(t)), -l_4*sin(q_3(t))*sin(q_4(t)), 0],\n",
       "[1, 0,                            0,              l_4*cos(q_4(t)), 0]])"
      ]
     },
     "metadata": {},
     "output_type": "display_data"
    },
    {
     "name": "stdout",
     "output_type": "stream",
     "text": [
      "Jacobian:\n"
     ]
    },
    {
     "data": {
      "text/latex": [
       "$\\displaystyle \\left[\\begin{matrix}0 & 1 & - l_{4} \\sin{\\left(\\operatorname{q_{3}}{\\left(t \\right)} \\right)} \\cos{\\left(\\operatorname{q_{4}}{\\left(t \\right)} \\right)} & - l_{4} \\sin{\\left(\\operatorname{q_{4}}{\\left(t \\right)} \\right)} \\cos{\\left(\\operatorname{q_{3}}{\\left(t \\right)} \\right)} & 0\\\\0 & 0 & l_{4} \\cos{\\left(\\operatorname{q_{3}}{\\left(t \\right)} \\right)} \\cos{\\left(\\operatorname{q_{4}}{\\left(t \\right)} \\right)} & - l_{4} \\sin{\\left(\\operatorname{q_{3}}{\\left(t \\right)} \\right)} \\sin{\\left(\\operatorname{q_{4}}{\\left(t \\right)} \\right)} & 0\\\\1 & 0 & 0 & l_{4} \\cos{\\left(\\operatorname{q_{4}}{\\left(t \\right)} \\right)} & 0\\\\0 & 0 & \\sin{\\left(\\operatorname{q_{3}}{\\left(t \\right)} \\right)} & \\sin{\\left(\\operatorname{q_{3}}{\\left(t \\right)} \\right)} & \\sin{\\left(\\operatorname{q_{3}}{\\left(t \\right)} \\right)} \\sin{\\left(\\operatorname{q_{5}}{\\left(t \\right)} \\right)} - \\sin{\\left(\\operatorname{q_{4}}{\\left(t \\right)} \\right)} \\cos{\\left(\\operatorname{q_{3}}{\\left(t \\right)} \\right)} \\cos{\\left(\\operatorname{q_{5}}{\\left(t \\right)} \\right)}\\\\0 & 0 & - \\cos{\\left(\\operatorname{q_{3}}{\\left(t \\right)} \\right)} & - \\cos{\\left(\\operatorname{q_{3}}{\\left(t \\right)} \\right)} & - \\sin{\\left(\\operatorname{q_{3}}{\\left(t \\right)} \\right)} \\sin{\\left(\\operatorname{q_{4}}{\\left(t \\right)} \\right)} \\cos{\\left(\\operatorname{q_{5}}{\\left(t \\right)} \\right)} - \\sin{\\left(\\operatorname{q_{5}}{\\left(t \\right)} \\right)} \\cos{\\left(\\operatorname{q_{3}}{\\left(t \\right)} \\right)}\\\\0 & 0 & 0 & 0 & \\cos{\\left(\\operatorname{q_{4}}{\\left(t \\right)} \\right)} \\cos{\\left(\\operatorname{q_{5}}{\\left(t \\right)} \\right)}\\end{matrix}\\right]$"
      ],
      "text/plain": [
       "Matrix([\n",
       "[0, 1, -l_4*sin(q_3(t))*cos(q_4(t)), -l_4*sin(q_4(t))*cos(q_3(t)),                                                              0],\n",
       "[0, 0,  l_4*cos(q_3(t))*cos(q_4(t)), -l_4*sin(q_3(t))*sin(q_4(t)),                                                              0],\n",
       "[1, 0,                            0,              l_4*cos(q_4(t)),                                                              0],\n",
       "[0, 0,                  sin(q_3(t)),                  sin(q_3(t)),  sin(q_3(t))*sin(q_5(t)) - sin(q_4(t))*cos(q_3(t))*cos(q_5(t))],\n",
       "[0, 0,                 -cos(q_3(t)),                 -cos(q_3(t)), -sin(q_3(t))*sin(q_4(t))*cos(q_5(t)) - sin(q_5(t))*cos(q_3(t))],\n",
       "[0, 0,                            0,                            0,                                        cos(q_4(t))*cos(q_5(t))]])"
      ]
     },
     "metadata": {},
     "output_type": "display_data"
    }
   ],
   "source": [
    "\n",
    "print('Angular velocity Jacobian:')\n",
    "display(J_w)\n",
    "print('Linear Velocity Jacobian:')\n",
    "display(J_v)\n",
    "print('Jacobian:')\n",
    "J = J_v.col_join(J_w)\n",
    "display(J)"
   ]
  },
  {
   "cell_type": "code",
   "execution_count": null,
   "metadata": {},
   "outputs": [],
   "source": []
  },
  {
   "cell_type": "markdown",
   "metadata": {},
   "source": [
    "# Nullspaces"
   ]
  },
  {
   "cell_type": "code",
   "execution_count": 174,
   "metadata": {},
   "outputs": [
    {
     "data": {
      "text/plain": [
       "[]"
      ]
     },
     "execution_count": 174,
     "metadata": {},
     "output_type": "execute_result"
    }
   ],
   "source": [
    "J.nullspace()"
   ]
  },
  {
   "cell_type": "code",
   "execution_count": 169,
   "metadata": {},
   "outputs": [
    {
     "name": "stdout",
     "output_type": "stream",
     "text": [
      "Nullspace vector:\n"
     ]
    },
    {
     "data": {
      "text/latex": [
       "$\\displaystyle \\left[\\begin{matrix}- l_{4} \\cos{\\left(\\operatorname{q_{4}}{\\left(t \\right)} \\right)}\\\\\\frac{l_{4} \\sin{\\left(\\operatorname{q_{4}}{\\left(t \\right)} \\right)}}{\\cos{\\left(\\operatorname{q_{3}}{\\left(t \\right)} \\right)}}\\\\\\tan{\\left(\\operatorname{q_{3}}{\\left(t \\right)} \\right)} \\tan{\\left(\\operatorname{q_{4}}{\\left(t \\right)} \\right)}\\\\1\\\\0\\end{matrix}\\right]$"
      ],
      "text/plain": [
       "Matrix([\n",
       "[           -l_4*cos(q_4(t))],\n",
       "[l_4*sin(q_4(t))/cos(q_3(t))],\n",
       "[    tan(q_3(t))*tan(q_4(t))],\n",
       "[                          1],\n",
       "[                          0]])"
      ]
     },
     "metadata": {},
     "output_type": "display_data"
    },
    {
     "name": "stdout",
     "output_type": "stream",
     "text": [
      "Nullspace vector:\n"
     ]
    },
    {
     "data": {
      "text/latex": [
       "$\\displaystyle \\left[\\begin{matrix}0\\\\0\\\\0\\\\0\\\\1\\end{matrix}\\right]$"
      ],
      "text/plain": [
       "Matrix([\n",
       "[0],\n",
       "[0],\n",
       "[0],\n",
       "[0],\n",
       "[1]])"
      ]
     },
     "metadata": {},
     "output_type": "display_data"
    }
   ],
   "source": [
    "for vec in J[0:3, :].nullspace():\n",
    "    print('Nullspace vector:')\n",
    "    display(sp.simplify(vec))"
   ]
  },
  {
   "cell_type": "code",
   "execution_count": 182,
   "metadata": {},
   "outputs": [
    {
     "data": {
      "text/latex": [
       "$\\displaystyle \\left[\\begin{matrix}0\\\\0\\\\0\\\\\\frac{\\cos{\\left(\\operatorname{q_{3}}{\\left(t \\right)} \\right)}}{\\tan{\\left(\\operatorname{q_{4}}{\\left(t \\right)} \\right)}}\\\\\\frac{\\sin{\\left(\\operatorname{q_{3}}{\\left(t \\right)} \\right)}}{\\tan{\\left(\\operatorname{q_{4}}{\\left(t \\right)} \\right)}}\\\\1\\end{matrix}\\right]$"
      ],
      "text/plain": [
       "Matrix([\n",
       "[                      0],\n",
       "[                      0],\n",
       "[                      0],\n",
       "[cos(q_3(t))/tan(q_4(t))],\n",
       "[sin(q_3(t))/tan(q_4(t))],\n",
       "[                      1]])"
      ]
     },
     "execution_count": 182,
     "metadata": {},
     "output_type": "execute_result"
    }
   ],
   "source": [
    "sp.simplify(J.T.nullspace()[0])"
   ]
  },
  {
   "cell_type": "markdown",
   "metadata": {},
   "source": [
    "# Simulation\n",
    "Given that we know, that derivative of generalized actuations is basically the nullspace of the Jacobian, we can use the following formula to calculate corresponding velocities:\n",
    "(to simplify calculations I have assumed all the links to be equal in length to 1, all integration constants to be zero and all generalized actuations to be equal to 0 where possible)"
   ]
  },
  {
   "cell_type": "code",
   "execution_count": 213,
   "metadata": {},
   "outputs": [],
   "source": [
    "q1 = -1 * sp.cos(t)\n",
    "q2 = 1 * sp.sin(t)\n",
    "q3 = 0\n",
    "q4 = t\n",
    "q5 = 0"
   ]
  },
  {
   "cell_type": "code",
   "execution_count": 263,
   "metadata": {},
   "outputs": [],
   "source": [
    "import matplotlib.pyplot as plt\n",
    "from mpl_toolkits.mplot3d import Axes3D\n",
    "from matplotlib.animation import FuncAnimation, PillowWriter\n",
    "\n",
    "plt.rcParams.update({\n",
    "    \"savefig.facecolor\": (1.0, 1.0, 1.0, 1)\n",
    "})\n",
    "\n",
    "fig = plt.figure()\n",
    "ax = fig.add_subplot(1, 1, 1, projection='3d')\n",
    "ax.set_xlim(-1, 2.2)\n",
    "ax.set_ylim(-1, 2.2)\n",
    "ax.set_zlim(-1, 2.2)\n",
    "ax.set_xlabel('x')\n",
    "ax.set_ylabel('y')\n",
    "ax.set_zlabel('z')\n",
    "xs = [0.0, 0.0, 1.0, 1.0, 2.0]\n",
    "ys = [0.0, 0.0, 0.0, 0.0, 0.0]\n",
    "zs = [0.0, 1.0, 1.0, 2.0, 2.0]\n",
    "\n",
    "mech_joints = []\n",
    "mech_links = []\n",
    "mech_labels = []\n",
    "prev_frame = 0\n",
    "\n",
    "def update_model(frame):\n",
    "    global prev_frame\n",
    "    \n",
    "    dt = frame - prev_frame\n",
    "    for i in range(len(zs)):\n",
    "        zs[i] += dt * float(q1.subs(t, frame).evalf())\n",
    "        if i > 0:\n",
    "            xs[i] += dt * float(q2.subs(t, frame).evalf())\n",
    "        \n",
    "    \n",
    "    xs[4] += np.cos(frame) - np.cos(prev_frame)\n",
    "    zs[4] += np.sin(frame) - np.sin(prev_frame)\n",
    "    \n",
    "    prev_frame = frame\n",
    "\n",
    "    while not len(mech_links) == 0:\n",
    "        mech_links[-1][0].remove()\n",
    "        mech_links.pop()\n",
    "\n",
    "    while not len(mech_joints) == 0:\n",
    "        mech_joints[-1].remove()\n",
    "        mech_joints.pop()\n",
    "\n",
    "    while not len(mech_labels) == 0:\n",
    "        mech_labels[-1].remove()\n",
    "        mech_labels.pop()\n",
    "\n",
    "    mech_labels.append(ax.text(0, 0, -0.05, '$trans_1$', fontsize=10))\n",
    "    mech_labels.append(ax.text(0, ys[2], zs[2] + 0.05, '$trans_2$', fontsize=10))\n",
    "    mech_labels.append(ax.text(xs[2], ys[2], zs[2] - 0.05, '$rev_1$', fontsize=10))\n",
    "    mech_labels.append(ax.text(xs[3] + 0.05, ys[3], zs[3], '$rev_2$', fontsize=10))\n",
    "    mech_labels.append(ax.text(xs[4], ys[4], zs[4] + 0.05, '$rev_3$', fontsize=10))\n",
    "    mech_joints.append(ax.scatter(xs[2:], ys[2:], zs[2:], color='blue'))\n",
    "    mech_joints.append(ax.scatter([0], ys[2], zs[2], color='blue'))\n",
    "    mech_joints.append(ax.scatter([0], [0], [0], color='blue'))\n",
    "    mech_links.append(ax.plot([0, 0], [0, ys[2]], [0, zs[2]], color='red'))\n",
    "    mech_links.append(ax.plot(xs[2:5], ys[2:5], zs[2:5], color='red'))\n",
    "    mech_links.append(ax.plot([0, xs[2]], [ys[2], ys[2]], [zs[2], zs[2]], color='red'))\n",
    "\n",
    "    return []\n",
    "\n",
    "anim = FuncAnimation(fig, update_model, frames=np.linspace(0, 10, 300), blit=True)\n",
    "\n",
    "anim.save('task2.gif', dpi=300, writer=PillowWriter(fps=60))\n",
    "plt.close('all')"
   ]
  },
  {
   "cell_type": "code",
   "execution_count": null,
   "metadata": {},
   "outputs": [],
   "source": []
  }
 ],
 "metadata": {
  "kernelspec": {
   "display_name": "Python 3.9.12 ('base')",
   "language": "python",
   "name": "python3"
  },
  "language_info": {
   "codemirror_mode": {
    "name": "ipython",
    "version": 3
   },
   "file_extension": ".py",
   "mimetype": "text/x-python",
   "name": "python",
   "nbconvert_exporter": "python",
   "pygments_lexer": "ipython3",
   "version": "3.9.12"
  },
  "orig_nbformat": 4,
  "vscode": {
   "interpreter": {
    "hash": "690fcc030dbde6f3f652c519b06a0d95da528e66105ed58c88e506e5818277cb"
   }
  }
 },
 "nbformat": 4,
 "nbformat_minor": 2
}
