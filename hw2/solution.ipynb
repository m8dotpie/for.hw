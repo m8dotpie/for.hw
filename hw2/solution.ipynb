{
 "cells": [
  {
   "cell_type": "markdown",
   "metadata": {},
   "source": [
    "# Imports and inits"
   ]
  },
  {
   "cell_type": "code",
   "execution_count": 32,
   "metadata": {},
   "outputs": [],
   "source": [
    "import numpy as np\n",
    "import sympy as sp\n",
    "from sympy import cos, sin"
   ]
  },
  {
   "cell_type": "code",
   "execution_count": 40,
   "metadata": {},
   "outputs": [],
   "source": [
    "t = sp.Symbol('t')\n",
    "qs = [sp.Function(f'q_{i}')(t) for i in range(6)] # Joints effect\n",
    "ls = sp.symbols(r\"l_:6\") # Link lengths\n",
    "hs = sp.symbols(r\"h_:3\") # Link heights\n",
    "ws = sp.symbols(r\"w_:3\") # Link widths\n",
    "rs = sp.symbols(r\"r_:6\") # Link radii"
   ]
  },
  {
   "cell_type": "code",
   "execution_count": 41,
   "metadata": {},
   "outputs": [
    {
     "data": {
      "text/plain": [
       "[q_0(t), q_1(t), q_2(t), q_3(t), q_4(t), q_5(t)]"
      ]
     },
     "execution_count": 41,
     "metadata": {},
     "output_type": "execute_result"
    }
   ],
   "source": [
    "qs"
   ]
  },
  {
   "cell_type": "code",
   "execution_count": 42,
   "metadata": {},
   "outputs": [],
   "source": [
    "# Source: symbolic_fk.ipynb demo code\n",
    "\n",
    "def rz(theta):\n",
    "    rot = sp.zeros(4,4)\n",
    "    rot[3,3] = 1\n",
    "    rot[0,:] = [[cos(theta), -sin(theta),0,0]]\n",
    "    rot[1,:] = [[sin(theta), cos(theta),0,0]]\n",
    "    rot[2,2] = 1\n",
    "\n",
    "    return rot\n",
    "\n",
    "def rx(theta): \n",
    "    rot = sp.zeros(4,4)\n",
    "    rot[3,3] = 1\n",
    "    rot[0,0] = 1\n",
    "    rot[1,:] = [[0, cos(theta), -sin(theta),0]]\n",
    "    rot[2,:] = [[0, sin(theta), cos(theta),0]]\n",
    "\n",
    "    return rot\n",
    "\n",
    "\n",
    "def ry(theta): \n",
    "    rot = sp.zeros(4,4)\n",
    "    rot[3,3] = 1\n",
    "    rot[1,1] = 1\n",
    "    rot[0,:] = [[ cos(theta), 0, sin(theta),0]]\n",
    "    rot[2,:] = [[-sin(theta),0, cos(theta),0]]\n",
    "\n",
    "    return rot\n",
    "\n",
    "\n",
    "def trans(vector):\n",
    "    mat = sp.eye(4)\n",
    "    mat[0:3,3] = vector\n",
    "    return mat\n",
    "\n",
    "def tx(dx):\n",
    "    return trans([dx, 0, 0])\n",
    "\n",
    "def ty(dy):\n",
    "    return trans([0, dy, 0])\n",
    "\n",
    "def tz(dz):\n",
    "    return trans([0, 0, dz])"
   ]
  },
  {
   "cell_type": "code",
   "execution_count": 57,
   "metadata": {},
   "outputs": [],
   "source": [
    "# Recursive forward kinematics\n",
    "def forward(i, j):\n",
    "    assert i <= j\n",
    "    assert j < 6\n",
    "\n",
    "    T = [[None] * 6] * 6\n",
    "    T[0][1] = tz(qs[1])\n",
    "    T[1][2] = tz(hs[1] / 2 + ws[2] / 2) @ tx(qs[2])\n",
    "    T[2][3] = tx(hs[2] / 2 + rs[3]) @ rz(qs[3])\n",
    "    T[3][4] = tz(ls[3] / 2 + rs[4]) @ ry(qs[4])\n",
    "    T[4][5] = tx(rs[4] + ls[5] / 2) @ rx(qs[5])\n",
    "\n",
    "    if i == j:\n",
    "        return sp.eye(4)\n",
    "    if i - 1 == j:\n",
    "        return T[i][j]\n",
    "    \n",
    "    return forward(i, j - 1) @ T[j - 1][j]"
   ]
  },
  {
   "cell_type": "markdown",
   "metadata": {},
   "source": [
    "# Transformations"
   ]
  },
  {
   "cell_type": "code",
   "execution_count": 62,
   "metadata": {},
   "outputs": [
    {
     "name": "stdout",
     "output_type": "stream",
     "text": [
      "Complete transformation matrix:\n"
     ]
    },
    {
     "data": {
      "text/latex": [
       "$\\displaystyle \\left[\\begin{matrix}\\cos{\\left(\\operatorname{q_{3}}{\\left(t \\right)} \\right)} \\cos{\\left(\\operatorname{q_{4}}{\\left(t \\right)} \\right)} & - \\sin{\\left(\\operatorname{q_{3}}{\\left(t \\right)} \\right)} \\cos{\\left(\\operatorname{q_{5}}{\\left(t \\right)} \\right)} + \\sin{\\left(\\operatorname{q_{4}}{\\left(t \\right)} \\right)} \\sin{\\left(\\operatorname{q_{5}}{\\left(t \\right)} \\right)} \\cos{\\left(\\operatorname{q_{3}}{\\left(t \\right)} \\right)} & \\sin{\\left(\\operatorname{q_{3}}{\\left(t \\right)} \\right)} \\sin{\\left(\\operatorname{q_{5}}{\\left(t \\right)} \\right)} + \\sin{\\left(\\operatorname{q_{4}}{\\left(t \\right)} \\right)} \\cos{\\left(\\operatorname{q_{3}}{\\left(t \\right)} \\right)} \\cos{\\left(\\operatorname{q_{5}}{\\left(t \\right)} \\right)} & \\frac{h_{2}}{2} + r_{3} + \\left(\\frac{l_{5}}{2} + r_{4}\\right) \\cos{\\left(\\operatorname{q_{3}}{\\left(t \\right)} \\right)} \\cos{\\left(\\operatorname{q_{4}}{\\left(t \\right)} \\right)} + \\operatorname{q_{2}}{\\left(t \\right)}\\\\\\sin{\\left(\\operatorname{q_{3}}{\\left(t \\right)} \\right)} \\cos{\\left(\\operatorname{q_{4}}{\\left(t \\right)} \\right)} & \\sin{\\left(\\operatorname{q_{3}}{\\left(t \\right)} \\right)} \\sin{\\left(\\operatorname{q_{4}}{\\left(t \\right)} \\right)} \\sin{\\left(\\operatorname{q_{5}}{\\left(t \\right)} \\right)} + \\cos{\\left(\\operatorname{q_{3}}{\\left(t \\right)} \\right)} \\cos{\\left(\\operatorname{q_{5}}{\\left(t \\right)} \\right)} & \\sin{\\left(\\operatorname{q_{3}}{\\left(t \\right)} \\right)} \\sin{\\left(\\operatorname{q_{4}}{\\left(t \\right)} \\right)} \\cos{\\left(\\operatorname{q_{5}}{\\left(t \\right)} \\right)} - \\sin{\\left(\\operatorname{q_{5}}{\\left(t \\right)} \\right)} \\cos{\\left(\\operatorname{q_{3}}{\\left(t \\right)} \\right)} & \\left(\\frac{l_{5}}{2} + r_{4}\\right) \\sin{\\left(\\operatorname{q_{3}}{\\left(t \\right)} \\right)} \\cos{\\left(\\operatorname{q_{4}}{\\left(t \\right)} \\right)}\\\\- \\sin{\\left(\\operatorname{q_{4}}{\\left(t \\right)} \\right)} & \\sin{\\left(\\operatorname{q_{5}}{\\left(t \\right)} \\right)} \\cos{\\left(\\operatorname{q_{4}}{\\left(t \\right)} \\right)} & \\cos{\\left(\\operatorname{q_{4}}{\\left(t \\right)} \\right)} \\cos{\\left(\\operatorname{q_{5}}{\\left(t \\right)} \\right)} & \\frac{h_{1}}{2} + \\frac{l_{3}}{2} + r_{4} + \\frac{w_{2}}{2} - \\frac{\\left(l_{5} + 2 r_{4}\\right) \\sin{\\left(\\operatorname{q_{4}}{\\left(t \\right)} \\right)}}{2} + \\operatorname{q_{1}}{\\left(t \\right)}\\\\0 & 0 & 0 & 1\\end{matrix}\\right]$"
      ],
      "text/plain": [
       "Matrix([\n",
       "[cos(q_3(t))*cos(q_4(t)), -sin(q_3(t))*cos(q_5(t)) + sin(q_4(t))*sin(q_5(t))*cos(q_3(t)), sin(q_3(t))*sin(q_5(t)) + sin(q_4(t))*cos(q_3(t))*cos(q_5(t)),       h_2/2 + r_3 + (l_5/2 + r_4)*cos(q_3(t))*cos(q_4(t)) + q_2(t)],\n",
       "[sin(q_3(t))*cos(q_4(t)),  sin(q_3(t))*sin(q_4(t))*sin(q_5(t)) + cos(q_3(t))*cos(q_5(t)), sin(q_3(t))*sin(q_4(t))*cos(q_5(t)) - sin(q_5(t))*cos(q_3(t)),                              (l_5/2 + r_4)*sin(q_3(t))*cos(q_4(t))],\n",
       "[           -sin(q_4(t)),                                        sin(q_5(t))*cos(q_4(t)),                                       cos(q_4(t))*cos(q_5(t)), h_1/2 + l_3/2 + r_4 + w_2/2 - (l_5 + 2*r_4)*sin(q_4(t))/2 + q_1(t)],\n",
       "[                      0,                                                              0,                                                             0,                                                                  1]])"
      ]
     },
     "metadata": {},
     "output_type": "display_data"
    },
    {
     "name": "stdout",
     "output_type": "stream",
     "text": [
      "Translation:\n"
     ]
    },
    {
     "data": {
      "text/latex": [
       "$\\displaystyle \\left[\\begin{matrix}\\frac{h_{2}}{2} + r_{3} + \\left(\\frac{l_{5}}{2} + r_{4}\\right) \\cos{\\left(\\operatorname{q_{3}}{\\left(t \\right)} \\right)} \\cos{\\left(\\operatorname{q_{4}}{\\left(t \\right)} \\right)} + \\operatorname{q_{2}}{\\left(t \\right)}\\\\\\left(\\frac{l_{5}}{2} + r_{4}\\right) \\sin{\\left(\\operatorname{q_{3}}{\\left(t \\right)} \\right)} \\cos{\\left(\\operatorname{q_{4}}{\\left(t \\right)} \\right)}\\\\\\frac{h_{1}}{2} + \\frac{l_{3}}{2} + r_{4} + \\frac{w_{2}}{2} - \\frac{\\left(l_{5} + 2 r_{4}\\right) \\sin{\\left(\\operatorname{q_{4}}{\\left(t \\right)} \\right)}}{2} + \\operatorname{q_{1}}{\\left(t \\right)}\\end{matrix}\\right]$"
      ],
      "text/plain": [
       "Matrix([\n",
       "[      h_2/2 + r_3 + (l_5/2 + r_4)*cos(q_3(t))*cos(q_4(t)) + q_2(t)],\n",
       "[                             (l_5/2 + r_4)*sin(q_3(t))*cos(q_4(t))],\n",
       "[h_1/2 + l_3/2 + r_4 + w_2/2 - (l_5 + 2*r_4)*sin(q_4(t))/2 + q_1(t)]])"
      ]
     },
     "metadata": {},
     "output_type": "display_data"
    },
    {
     "name": "stdout",
     "output_type": "stream",
     "text": [
      "Rotation:\n"
     ]
    },
    {
     "data": {
      "text/latex": [
       "$\\displaystyle \\left[\\begin{matrix}\\cos{\\left(\\operatorname{q_{3}}{\\left(t \\right)} \\right)} \\cos{\\left(\\operatorname{q_{4}}{\\left(t \\right)} \\right)} & - \\sin{\\left(\\operatorname{q_{3}}{\\left(t \\right)} \\right)} \\cos{\\left(\\operatorname{q_{5}}{\\left(t \\right)} \\right)} + \\sin{\\left(\\operatorname{q_{4}}{\\left(t \\right)} \\right)} \\sin{\\left(\\operatorname{q_{5}}{\\left(t \\right)} \\right)} \\cos{\\left(\\operatorname{q_{3}}{\\left(t \\right)} \\right)} & \\sin{\\left(\\operatorname{q_{3}}{\\left(t \\right)} \\right)} \\sin{\\left(\\operatorname{q_{5}}{\\left(t \\right)} \\right)} + \\sin{\\left(\\operatorname{q_{4}}{\\left(t \\right)} \\right)} \\cos{\\left(\\operatorname{q_{3}}{\\left(t \\right)} \\right)} \\cos{\\left(\\operatorname{q_{5}}{\\left(t \\right)} \\right)}\\\\\\sin{\\left(\\operatorname{q_{3}}{\\left(t \\right)} \\right)} \\cos{\\left(\\operatorname{q_{4}}{\\left(t \\right)} \\right)} & \\sin{\\left(\\operatorname{q_{3}}{\\left(t \\right)} \\right)} \\sin{\\left(\\operatorname{q_{4}}{\\left(t \\right)} \\right)} \\sin{\\left(\\operatorname{q_{5}}{\\left(t \\right)} \\right)} + \\cos{\\left(\\operatorname{q_{3}}{\\left(t \\right)} \\right)} \\cos{\\left(\\operatorname{q_{5}}{\\left(t \\right)} \\right)} & \\sin{\\left(\\operatorname{q_{3}}{\\left(t \\right)} \\right)} \\sin{\\left(\\operatorname{q_{4}}{\\left(t \\right)} \\right)} \\cos{\\left(\\operatorname{q_{5}}{\\left(t \\right)} \\right)} - \\sin{\\left(\\operatorname{q_{5}}{\\left(t \\right)} \\right)} \\cos{\\left(\\operatorname{q_{3}}{\\left(t \\right)} \\right)}\\\\- \\sin{\\left(\\operatorname{q_{4}}{\\left(t \\right)} \\right)} & \\sin{\\left(\\operatorname{q_{5}}{\\left(t \\right)} \\right)} \\cos{\\left(\\operatorname{q_{4}}{\\left(t \\right)} \\right)} & \\cos{\\left(\\operatorname{q_{4}}{\\left(t \\right)} \\right)} \\cos{\\left(\\operatorname{q_{5}}{\\left(t \\right)} \\right)}\\end{matrix}\\right]$"
      ],
      "text/plain": [
       "Matrix([\n",
       "[cos(q_3(t))*cos(q_4(t)), -sin(q_3(t))*cos(q_5(t)) + sin(q_4(t))*sin(q_5(t))*cos(q_3(t)), sin(q_3(t))*sin(q_5(t)) + sin(q_4(t))*cos(q_3(t))*cos(q_5(t))],\n",
       "[sin(q_3(t))*cos(q_4(t)),  sin(q_3(t))*sin(q_4(t))*sin(q_5(t)) + cos(q_3(t))*cos(q_5(t)), sin(q_3(t))*sin(q_4(t))*cos(q_5(t)) - sin(q_5(t))*cos(q_3(t))],\n",
       "[           -sin(q_4(t)),                                        sin(q_5(t))*cos(q_4(t)),                                       cos(q_4(t))*cos(q_5(t))]])"
      ]
     },
     "metadata": {},
     "output_type": "display_data"
    }
   ],
   "source": [
    "T = forward(0, 5)\n",
    "T.simplify()\n",
    "print('Complete transformation matrix:')\n",
    "display(T)\n",
    "print('Translation:')\n",
    "display(T[0:3,3])\n",
    "print('Rotation:')\n",
    "display(T[0:3,0:3])"
   ]
  },
  {
   "cell_type": "code",
   "execution_count": null,
   "metadata": {},
   "outputs": [],
   "source": []
  }
 ],
 "metadata": {
  "kernelspec": {
   "display_name": "Python 3.9.12 ('base')",
   "language": "python",
   "name": "python3"
  },
  "language_info": {
   "codemirror_mode": {
    "name": "ipython",
    "version": 3
   },
   "file_extension": ".py",
   "mimetype": "text/x-python",
   "name": "python",
   "nbconvert_exporter": "python",
   "pygments_lexer": "ipython3",
   "version": "3.9.12"
  },
  "orig_nbformat": 4,
  "vscode": {
   "interpreter": {
    "hash": "690fcc030dbde6f3f652c519b06a0d95da528e66105ed58c88e506e5818277cb"
   }
  }
 },
 "nbformat": 4,
 "nbformat_minor": 2
}
